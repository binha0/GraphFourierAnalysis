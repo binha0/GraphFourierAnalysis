{
 "cells": [
  {
   "cell_type": "code",
   "execution_count": null,
   "metadata": {},
   "outputs": [],
   "source": [
    "pip install pygsp"
   ]
  },
  {
   "cell_type": "code",
   "execution_count": null,
   "metadata": {},
   "outputs": [],
   "source": [
    "import numpy as np\n",
    "import matplotlib.pyplot as plt\n",
    "import scipy as sp \n",
    "from pygsp import graphs, filters, plotting"
   ]
  },
  {
   "cell_type": "markdown",
   "metadata": {},
   "source": [
    "# Métricas \n"
   ]
  },
  {
   "cell_type": "code",
   "execution_count": null,
   "metadata": {},
   "outputs": [],
   "source": [
    "def erro_absoluto(G_original, G_aprendido):\n",
    "    w_original = G_original.W\n",
    "    w_aprendido = G_aprendido.W\n",
    "    return abs(w_original - w_aprendido)\n",
    "\n",
    "def erro_graus(G_original, G_aprendido):\n",
    "    deg_original = np.array([G_original.degree[i] for i in G_original.nodes])\n",
    "    deg_aprendido = np.array([G_aprendido.degree[i] for i in G_aprendido.nodes])\n",
    "    return abs(deg_original - deg_aprendido)"
   ]
  },
  {
   "cell_type": "code",
   "execution_count": null,
   "metadata": {},
   "outputs": [],
   "source": [
    "def erro_medio_lp(G_original, G_aprendido, p=1):\n",
    "    erro = erro_absoluto(G_original, G_aprendido)\n",
    "    E = len(erro)\n",
    "    return np.sum(erro**p)/E\n",
    "\n",
    "def erro_relativo(G_aprendido):\n",
    "    N = len(G_aprendido.nodes)\n",
    "    erro = np.zeros((N,N))\n",
    "    \n",
    "    # medias - w barra\n",
    "    medias = np.array([G_aprendido.degree[i] for i in G_aprendido.nodes])/N \n",
    "    # uma outra maneira de calcular seria fazer a média das entradas que não são zero \n",
    "    for i in range(N):\n",
    "        for j in range(N):\n",
    "            w_ij = G_aprendido.W[i][j]\n",
    "            e_rel = abs((w_ij - medias[i])/w_ij)\n",
    "\n",
    "            erro[i][j] = e_rel \n",
    "\n",
    "    return erro \n",
    "\n",
    "def precisao_e_sensibilidade(G_original, G_aprendido):\n",
    "    # se uma aresta é positiva, queremos ver se o peso w_ij dela é positivo \n",
    "    # selecionando as matrizes dos pesos\n",
    "    W_original = G_original.W\n",
    "    W_aprendido = G_aprendido.W\n",
    "\n",
    "    # contagem de pesos positivos \n",
    "    pos_original = W_original > 0 \n",
    "    pos_aprendido = W_aprendido > 0 \n",
    "\n",
    "    pos_aprendido_original = pos_original & pos_aprendido\n",
    "\n",
    "    k = np.sum(pos_aprendido)\n",
    "    s = np.sum(pos_original)\n",
    "    l = np.sum(pos_aprendido_original)\n",
    "\n",
    "    return l/k, l/s\n",
    "\n",
    "def F1_score(G_original, G_aprendido):\n",
    "    prec, sens = precisao_e_sensibilidade(G_original, G_aprendido)\n",
    "    F1 = (2*prec*sens)/(prec+sens)\n",
    "    return F1    "
   ]
  },
  {
   "cell_type": "markdown",
   "metadata": {},
   "source": [
    "# Algoritmo de Kalofolias"
   ]
  },
  {
   "cell_type": "code",
   "execution_count": null,
   "metadata": {},
   "outputs": [],
   "source": [
    "def Kalofolias_algorithm():\n",
    "    pass"
   ]
  }
 ],
 "metadata": {
  "language_info": {
   "name": "python"
  }
 },
 "nbformat": 4,
 "nbformat_minor": 2
}
