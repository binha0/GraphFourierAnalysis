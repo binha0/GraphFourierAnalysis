{
 "cells": [
  {
   "cell_type": "markdown",
   "metadata": {},
   "source": [
    "# Projeto Filtros AdFG\n",
    "\n",
    "### Beatriz Evelbauer Simões \n",
    "\n",
    "Nesse projeto, visamos comparar diferentes tipos de filtros com relação a diferentes ruídos em uma mesma imagem.\n",
    "\n",
    "Os filtros propostos são o filtro do kernel da equação do calor e também o de regularização à Tikhonov, este sendo um caso particular de um filtro $ARMA(p,q)$.\n",
    "\n",
    "Eles são definidos por:\n",
    "\n",
    "$$\\text{heat} (\\lambda) = e^{- \\tau \\lambda}$$\n",
    "\n",
    "onde $\\tau$ é um parâmetro real a ser definido, e\n",
    "\n",
    "$$\\text{Tikhonov} (\\lambda) = \\frac{1}{1 + \\gamma \\lambda}$$\n",
    "\n",
    "onde $\\gamma$ é um parâmetro real a ser escolhido. \n",
    "\n",
    "Ambos os filtros tem implementação na biblioteca `PyGSP`, com a qual faremos a comparação de desempenho no final do trabalho."
   ]
  },
  {
   "cell_type": "markdown",
   "metadata": {},
   "source": [
    "## Imports"
   ]
  },
  {
   "cell_type": "code",
   "execution_count": 1,
   "metadata": {},
   "outputs": [
    {
     "name": "stdout",
     "output_type": "stream",
     "text": [
      "Defaulting to user installation because normal site-packages is not writeable\n",
      "Collecting opencv-python\n",
      "  Downloading opencv_python-4.9.0.80-cp37-abi3-win_amd64.whl.metadata (20 kB)\n",
      "Requirement already satisfied: numpy>=1.21.2 in c:\\users\\beatriz\\appdata\\roaming\\python\\python311\\site-packages (from opencv-python) (1.26.4)\n",
      "Downloading opencv_python-4.9.0.80-cp37-abi3-win_amd64.whl (38.6 MB)\n",
      "   ---------------------------------------- 0.0/38.6 MB ? eta -:--:--\n",
      "   ---------------------------------------- 0.5/38.6 MB 14.2 MB/s eta 0:00:03\n",
      "    --------------------------------------- 0.9/38.6 MB 11.6 MB/s eta 0:00:04\n",
      "   - -------------------------------------- 1.2/38.6 MB 13.2 MB/s eta 0:00:03\n",
      "   - -------------------------------------- 1.8/38.6 MB 11.5 MB/s eta 0:00:04\n",
      "   -- ------------------------------------- 2.3/38.6 MB 12.3 MB/s eta 0:00:03\n",
      "   --- ------------------------------------ 2.9/38.6 MB 12.4 MB/s eta 0:00:03\n",
      "   --- ------------------------------------ 3.4/38.6 MB 12.0 MB/s eta 0:00:03\n",
      "   --- ------------------------------------ 3.8/38.6 MB 12.2 MB/s eta 0:00:03\n",
      "   ---- ----------------------------------- 4.2/38.6 MB 12.3 MB/s eta 0:00:03\n",
      "   ---- ----------------------------------- 4.7/38.6 MB 12.1 MB/s eta 0:00:03\n",
      "   ----- ---------------------------------- 5.2/38.6 MB 12.2 MB/s eta 0:00:03\n",
      "   ----- ---------------------------------- 5.7/38.6 MB 12.1 MB/s eta 0:00:03\n",
      "   ------ --------------------------------- 6.1/38.6 MB 12.2 MB/s eta 0:00:03\n",
      "   ------ --------------------------------- 6.6/38.6 MB 12.1 MB/s eta 0:00:03\n",
      "   ------- -------------------------------- 7.1/38.6 MB 11.9 MB/s eta 0:00:03\n",
      "   ------- -------------------------------- 7.5/38.6 MB 12.0 MB/s eta 0:00:03\n",
      "   -------- ------------------------------- 8.0/38.6 MB 11.9 MB/s eta 0:00:03\n",
      "   -------- ------------------------------- 8.6/38.6 MB 11.9 MB/s eta 0:00:03\n",
      "   --------- ------------------------------ 9.2/38.6 MB 12.0 MB/s eta 0:00:03\n",
      "   --------- ------------------------------ 9.6/38.6 MB 12.1 MB/s eta 0:00:03\n",
      "   ---------- ----------------------------- 10.1/38.6 MB 12.0 MB/s eta 0:00:03\n",
      "   ----------- ---------------------------- 10.8/38.6 MB 12.1 MB/s eta 0:00:03\n",
      "   ----------- ---------------------------- 11.3/38.6 MB 11.7 MB/s eta 0:00:03\n",
      "   ------------ --------------------------- 11.7/38.6 MB 11.9 MB/s eta 0:00:03\n",
      "   ------------ --------------------------- 12.2/38.6 MB 12.1 MB/s eta 0:00:03\n",
      "   ------------- -------------------------- 12.9/38.6 MB 11.9 MB/s eta 0:00:03\n",
      "   ------------- -------------------------- 13.3/38.6 MB 11.9 MB/s eta 0:00:03\n",
      "   -------------- ------------------------- 13.9/38.6 MB 11.7 MB/s eta 0:00:03\n",
      "   -------------- ------------------------- 14.4/38.6 MB 11.9 MB/s eta 0:00:03\n",
      "   --------------- ------------------------ 14.9/38.6 MB 11.9 MB/s eta 0:00:02\n",
      "   ---------------- ----------------------- 15.5/38.6 MB 11.9 MB/s eta 0:00:02\n",
      "   ---------------- ----------------------- 16.0/38.6 MB 11.7 MB/s eta 0:00:02\n",
      "   ---------------- ----------------------- 16.4/38.6 MB 11.9 MB/s eta 0:00:02\n",
      "   ----------------- ---------------------- 16.9/38.6 MB 11.9 MB/s eta 0:00:02\n",
      "   ------------------ --------------------- 17.4/38.6 MB 11.9 MB/s eta 0:00:02\n",
      "   ------------------ --------------------- 17.9/38.6 MB 11.9 MB/s eta 0:00:02\n",
      "   ------------------- -------------------- 18.4/38.6 MB 11.9 MB/s eta 0:00:02\n",
      "   ------------------- -------------------- 18.8/38.6 MB 11.9 MB/s eta 0:00:02\n",
      "   -------------------- ------------------- 19.3/38.6 MB 11.9 MB/s eta 0:00:02\n",
      "   -------------------- ------------------- 19.8/38.6 MB 11.9 MB/s eta 0:00:02\n",
      "   -------------------- ------------------- 20.3/38.6 MB 11.9 MB/s eta 0:00:02\n",
      "   --------------------- ------------------ 20.8/38.6 MB 12.1 MB/s eta 0:00:02\n",
      "   --------------------- ------------------ 21.2/38.6 MB 11.9 MB/s eta 0:00:02\n",
      "   ---------------------- ----------------- 21.8/38.6 MB 11.9 MB/s eta 0:00:02\n",
      "   ----------------------- ---------------- 22.3/38.6 MB 11.9 MB/s eta 0:00:02\n",
      "   ----------------------- ---------------- 22.8/38.6 MB 12.1 MB/s eta 0:00:02\n",
      "   ------------------------ --------------- 23.3/38.6 MB 11.9 MB/s eta 0:00:02\n",
      "   ------------------------ --------------- 23.7/38.6 MB 11.9 MB/s eta 0:00:02\n",
      "   ------------------------- -------------- 24.2/38.6 MB 11.9 MB/s eta 0:00:02\n",
      "   ------------------------- -------------- 24.7/38.6 MB 11.9 MB/s eta 0:00:02\n",
      "   -------------------------- ------------- 25.2/38.6 MB 11.9 MB/s eta 0:00:02\n",
      "   -------------------------- ------------- 25.7/38.6 MB 11.9 MB/s eta 0:00:02\n",
      "   --------------------------- ------------ 26.1/38.6 MB 11.7 MB/s eta 0:00:02\n",
      "   --------------------------- ------------ 26.6/38.6 MB 11.9 MB/s eta 0:00:02\n",
      "   ---------------------------- ----------- 27.1/38.6 MB 11.9 MB/s eta 0:00:01\n",
      "   ---------------------------- ----------- 27.7/38.6 MB 11.9 MB/s eta 0:00:01\n",
      "   ----------------------------- ---------- 28.2/38.6 MB 11.9 MB/s eta 0:00:01\n",
      "   ----------------------------- ---------- 28.7/38.6 MB 11.9 MB/s eta 0:00:01\n",
      "   ------------------------------ --------- 29.1/38.6 MB 11.9 MB/s eta 0:00:01\n",
      "   ------------------------------ --------- 29.6/38.6 MB 11.9 MB/s eta 0:00:01\n",
      "   ------------------------------- -------- 30.1/38.6 MB 11.9 MB/s eta 0:00:01\n",
      "   ------------------------------- -------- 30.6/38.6 MB 11.7 MB/s eta 0:00:01\n",
      "   -------------------------------- ------- 31.0/38.6 MB 11.9 MB/s eta 0:00:01\n",
      "   -------------------------------- ------- 31.5/38.6 MB 11.9 MB/s eta 0:00:01\n",
      "   --------------------------------- ------ 32.0/38.6 MB 11.9 MB/s eta 0:00:01\n",
      "   --------------------------------- ------ 32.5/38.6 MB 11.9 MB/s eta 0:00:01\n",
      "   ---------------------------------- ----- 32.9/38.6 MB 11.9 MB/s eta 0:00:01\n",
      "   ---------------------------------- ----- 33.4/38.6 MB 11.9 MB/s eta 0:00:01\n",
      "   ----------------------------------- ---- 33.9/38.6 MB 11.9 MB/s eta 0:00:01\n",
      "   ----------------------------------- ---- 34.4/38.6 MB 11.9 MB/s eta 0:00:01\n",
      "   ------------------------------------ --- 35.0/38.6 MB 11.9 MB/s eta 0:00:01\n",
      "   ------------------------------------ --- 35.4/38.6 MB 11.9 MB/s eta 0:00:01\n",
      "   ------------------------------------- -- 35.9/38.6 MB 11.9 MB/s eta 0:00:01\n",
      "   ------------------------------------- -- 36.4/38.6 MB 11.9 MB/s eta 0:00:01\n",
      "   -------------------------------------- - 36.9/38.6 MB 11.9 MB/s eta 0:00:01\n",
      "   -------------------------------------- - 37.4/38.6 MB 11.9 MB/s eta 0:00:01\n",
      "   ---------------------------------------  37.8/38.6 MB 11.9 MB/s eta 0:00:01\n",
      "   ---------------------------------------  38.3/38.6 MB 11.7 MB/s eta 0:00:01\n",
      "   ---------------------------------------  38.6/38.6 MB 11.7 MB/s eta 0:00:01\n",
      "   ---------------------------------------  38.6/38.6 MB 11.7 MB/s eta 0:00:01\n",
      "   ---------------------------------------  38.6/38.6 MB 11.7 MB/s eta 0:00:01\n",
      "   ---------------------------------------- 38.6/38.6 MB 10.2 MB/s eta 0:00:00\n",
      "Installing collected packages: opencv-python\n",
      "Successfully installed opencv-python-4.9.0.80\n",
      "Note: you may need to restart the kernel to use updated packages.\n"
     ]
    }
   ],
   "source": [
    "pip install opencv-python\n"
   ]
  },
  {
   "cell_type": "code",
   "execution_count": 4,
   "metadata": {},
   "outputs": [],
   "source": [
    "# bibliotecas \n",
    "import pandas as pd\n",
    "import numpy as np \n",
    "import matplotlib.pyplot as plt\n",
    "from pygsp import graphs, filters, plotting \n",
    "from PIL import Image, ImageFilter\n",
    "import scipy.sparse as sp\n",
    "import cv2 # para mudar o tamanho das fotos"
   ]
  },
  {
   "cell_type": "code",
   "execution_count": 5,
   "metadata": {},
   "outputs": [
    {
     "name": "stdout",
     "output_type": "stream",
     "text": [
      "Tamanho original:  (256, 256)\n",
      "Tamanho ruido 1:  (256, 256)\n",
      "Tamanho ruido 2:  (256, 256)\n"
     ]
    }
   ],
   "source": [
    "# abrindo imagens\n",
    "img_original = cv2.imread('cameraman_original.jpg')\n",
    "img_ruido1 = cv2.imread('cameraman_ruido.jpg')\n",
    "img_ruido2 = cv2.imread('cameraman_ruido2.jpg')\n",
    "\n",
    "print(\"Tamanho original: \", img_original.shape[:2])\n",
    "print(\"Tamanho ruido 1: \", img_ruido1.shape[:2])\n",
    "print(\"Tamanho ruido 2: \", img_ruido2.shape[:2])"
   ]
  },
  {
   "cell_type": "markdown",
   "metadata": {},
   "source": [
    "### Reduzindo as imagens"
   ]
  },
  {
   "cell_type": "code",
   "execution_count": 6,
   "metadata": {},
   "outputs": [
    {
     "name": "stdout",
     "output_type": "stream",
     "text": [
      "Tamanho original:  (120, 120)\n",
      "Tamanho ruido 1:  (120, 120)\n",
      "Tamanho ruido 2:  (120, 120)\n"
     ]
    }
   ],
   "source": [
    "img_original = cv2.resize(img_original, (120,120))\n",
    "img_ruido1 = cv2.resize(img_ruido1, (120,120))\n",
    "img_ruido2 = cv2.resize(img_ruido2, (120,120))\n",
    "\n",
    "print(\"Tamanho original: \", img_original.shape[:2])\n",
    "print(\"Tamanho ruido 1: \", img_ruido1.shape[:2])\n",
    "print(\"Tamanho ruido 2: \", img_ruido2.shape[:2])"
   ]
  },
  {
   "cell_type": "code",
   "execution_count": 7,
   "metadata": {},
   "outputs": [],
   "source": [
    "# transformando em escala de cinza\n",
    "img_original = cv2.cvtColor(img_original, cv2.COLOR_BGR2GRAY)\n",
    "img_ruido1 = cv2.cvtColor(img_ruido1, cv2.COLOR_BGR2GRAY)\n",
    "img_ruido2 =  cv2.cvtColor(img_ruido2, cv2.COLOR_BGR2GRAY)"
   ]
  },
  {
   "cell_type": "code",
   "execution_count": 24,
   "metadata": {},
   "outputs": [],
   "source": [
    "plt.imsave('cameraman_original_reduzido.png',Image.fromarray(img_original,'L'),cmap='gray')"
   ]
  },
  {
   "cell_type": "markdown",
   "metadata": {},
   "source": [
    "### Transformando em sinal"
   ]
  },
  {
   "cell_type": "code",
   "execution_count": 8,
   "metadata": {},
   "outputs": [],
   "source": [
    "sinal_original = np.array(img_original).reshape(120**2)\n",
    "sinal_ruido1 = np.array(img_ruido1).reshape(120**2)\n",
    "sinal_ruido2 = np.array(img_ruido2).reshape(120**2)"
   ]
  },
  {
   "cell_type": "markdown",
   "metadata": {},
   "source": [
    "## Implementação dos filtros e das métricas \n",
    "\n",
    "Abaixo, estão definidas as funções utilizadas para calcular os filtros Heat e Tikhonov, bem como as métricas de Erro Quadrático Médio (MSE) e Peak Signal-to-Noise Ratio (PSNR).\n",
    "\n",
    "Na ordem:\n",
    "\n",
    "* Heat\n",
    "* Tikhonov\n",
    "* MSE\n",
    "* PSNR"
   ]
  },
  {
   "cell_type": "code",
   "execution_count": 9,
   "metadata": {},
   "outputs": [],
   "source": [
    "def heat(lam,tau=1):\n",
    "    '''Calcula a função do filtro a partir de um vetor de autovalores.\n",
    "    \n",
    "    Parâmetros:\n",
    "    - lambda (array) - vetor de autovalores\n",
    "    \n",
    "    Return:\n",
    "    - H (array) - matriz diagonal cujos calores da diagonal são os h(lambda_i) e\n",
    "    h() é a função que define o filtro\n",
    "    '''  \n",
    "    \n",
    "    h_lambda = np.exp(-tau * lam) #h(lam,tau)\n",
    "    H = np.diag(h_lambda)\n",
    "\n",
    "    return H\n"
   ]
  },
  {
   "cell_type": "code",
   "execution_count": 10,
   "metadata": {},
   "outputs": [],
   "source": [
    "def tikhonov(lam,g=1):\n",
    "    '''Calcula a matriz H da regularização à tikhonov a partir de\n",
    "    um vetor de autovalores.\n",
    "    \n",
    "    Parâmetros:\n",
    "    - lam (array): vetor de autovalores\n",
    "    - g (float): default = 1, valor do parâmetro lambda \n",
    "    \n",
    "    Returns:\n",
    "    - H (array): matriz diagonal cujas entradas são a função h() \n",
    "    calculada sobre os autovalores correspondentes.'''\n",
    "    \n",
    "    h_lambda = 1/(1+ g*lam)\n",
    "    H = np.diag(h_lambda)\n",
    "\n",
    "    return H "
   ]
  },
  {
   "cell_type": "code",
   "execution_count": 11,
   "metadata": {},
   "outputs": [],
   "source": [
    "def MSE(original,filtrado):\n",
    "    '''Calcula o erro quadrático médio da filtração escolhida.\n",
    "    \n",
    "    Parâmetros:\n",
    "    - original (array): sinal original, sem ruídos, para usar como\n",
    "    referência no MSE\n",
    "    - filtrado (array): sinal obtido com a filtração\n",
    "    \n",
    "    Returns:\n",
    "    - mse (float): erro quadrático médio'''\n",
    "\n",
    "    soma = sum((original - filtrado)**2) # soma dos quadrados \n",
    "    n = len(filtrado)\n",
    "    mse = soma/n\n",
    "    return mse"
   ]
  },
  {
   "cell_type": "code",
   "execution_count": 12,
   "metadata": {},
   "outputs": [],
   "source": [
    "def PSNR(original,filtrado,img=True):\n",
    "    '''Calcula o Peak signal-to-noise ratio com relação a alguma fltração\n",
    "    escolhida. O PSNR é a variação relativa do máximo valor possível\n",
    "    do sinal em relação ao erro quadrático médio (norma L2 do erro),\n",
    "    em escala logarítmica.\n",
    "    \n",
    "    Parâmetros:\n",
    "    - original (array): sinal original\n",
    "    - filtrado (array): sinal filtrado de acordo com a filtração de \n",
    "    escolha\n",
    "    \n",
    "    Returns: \n",
    "    - res (float): medida do PSNR'''\n",
    "    mse = MSE(original,filtrado) # precisa dessa métrica\n",
    "    if img:\n",
    "        max_f = 255\n",
    "    else: \n",
    "        # definindo uma métrica alternativa para meu toy problem\n",
    "        max_f = max(filtrado)\n",
    "    res = 20*np.log10(max_f) - 10*np.log10(mse)\n",
    "    return res"
   ]
  },
  {
   "cell_type": "markdown",
   "metadata": {},
   "source": [
    "## Grafo Clássico\n",
    "\n",
    "Nessa seção, vamos fazer todas as contas para os filtros implementados aqui com o grafo construído de maneira clássica, isto é, conectando os pixels adjascentes.\n",
    "\n",
    "Além disso, vamos dividir os resultados entre os filtros Heat e Tikhonov. "
   ]
  },
  {
   "cell_type": "code",
   "execution_count": 13,
   "metadata": {},
   "outputs": [],
   "source": [
    "# primeiro a identificação das bordas\n",
    "def bordas(img):\n",
    "    '''Função que recupera os índices de cada uma das bordas de um array (ou imagem).\n",
    "    \n",
    "    Parâmetros:\n",
    "    - img (array): matriz mxn que representa a imagem (ou qualquer outra coisa)\n",
    "    \n",
    "    Return:\n",
    "    - left (list): índices da borda esquerda \n",
    "    - right (list): índices da borda direita\n",
    "    - up (list): índices da borda superior\n",
    "    - down (list): índices da borda inferior'''\n",
    "    # matriz m por n \n",
    "    m, n = img.shape \n",
    "\n",
    "    left = [i*m for i in range(n)]\n",
    "    right = [i*m - 1 for i in range(1,n+1)]\n",
    "    up = [i for i in range(m)]\n",
    "    down = [n*(m-1) + i for i in range(m)]\n",
    "\n",
    "    return left, right, up, down"
   ]
  },
  {
   "cell_type": "code",
   "execution_count": 14,
   "metadata": {},
   "outputs": [],
   "source": [
    "def grafo_img_simples(img, adj = False, plot=True):\n",
    "    '''Função que retorna uma instância do objeto graph do pygsp que\n",
    "    representa uma imagem. Aqui o grafo é o mais simples possível, considerando\n",
    "    adjascentes os pixels vizinhos.\n",
    "       \n",
    "    Parâmetros:\n",
    "     - img (array): imagem a partir da qual construiremos o grafo \n",
    "     - adj (Bool): default = False, indica se retornamos ou não a matriz de adjascência\n",
    "      do grafo criado \n",
    "     - plot (Bool): default = True, faz o desenho do grafo\n",
    "    '''\n",
    "    # primeira coisa é pegar as bordas \n",
    "    left, right, up, down = bordas(img)\n",
    "    m,n = img.shape\n",
    "    #W = np.zeros((m*n,m*n))\n",
    "    W = []\n",
    "\n",
    "    for i in range(m*n):\n",
    "        linha = np.zeros(m*n,dtype=np.int16)\n",
    "\n",
    "        if i == 0: # canto superior esquerdo \n",
    "            linha[1] = 1 # a direita\n",
    "            linha[m] = 1 # abaixo\n",
    "            linha[m+1] = 1 # diagonal p baixo\n",
    "\n",
    "        elif i == m-1: # canto superior direito\n",
    "            linha[i-1] = 1 # a esquerda \n",
    "            linha[i+m] = 1 # abaixo \n",
    "            linha[i+m-1] = 1 # diagonal p baixo\n",
    "\n",
    "        elif i == n*(m-1): # canto inferior esquerdo \n",
    "            linha[i+1] = 1 # a direita\n",
    "            linha[i-m] = 1 # acima\n",
    "            linha[i-m+1] = 1\n",
    "\n",
    "        elif i == n*m -1: # canto inferior direito\n",
    "            linha[i-1] = 1 # a esquerda\n",
    "            linha[i-m] = 1 # acima\n",
    "            linha[i-m-1] = 1\n",
    "\n",
    "        elif i in up:\n",
    "           linha[i-1] = 1\n",
    "           linha[i+1] = 1\n",
    "           linha[i+m] = 1\n",
    "           linha[i+m-1] = 1\n",
    "           linha[i+m+1] = 1\n",
    "            \n",
    "        elif i in left:\n",
    "            linha[i+1] = 1\n",
    "            linha[i-m] = 1\n",
    "            linha[i+m] = 1\n",
    "            linha[i-m+1] = 1\n",
    "            linha[i+m+1] = 1\n",
    "        \n",
    "        elif i in right:\n",
    "            linha[i-m] = 1\n",
    "            linha[i+m] = 1\n",
    "            linha[i-1] = 1\n",
    "            linha[i-m-1] =1\n",
    "            linha[i+m-1] = 1\n",
    "\n",
    "        elif i in down:\n",
    "            linha[i-1] - 1\n",
    "            linha[i+1] = 1\n",
    "            linha[i-m] = 1\n",
    "            linha[i-m+1] = 1\n",
    "            linha[i-m-1] = 1\n",
    "\n",
    "        else:\n",
    "            linha[i-m-1] = 1\n",
    "            linha[i-m] = 1\n",
    "            linha[i-m+1] = 1\n",
    "            linha[i-1] = 1\n",
    "            linha[i+1] = 1\n",
    "            linha[i+m-1] = 1\n",
    "            linha[i+m] = 1\n",
    "            linha[i+m+1] = 1\n",
    "        \n",
    "        W.append(linha)\n",
    "    W = sp.csc_matrix(np.array(W, dtype=np.int16))\n",
    "    #assert W.shape == (m*n,m*n)\n",
    "    \n",
    "    # criando o grafo \n",
    "    G = graphs.Graph(W)\n",
    "    \n",
    "    if adj:\n",
    "        return G, W\n",
    "    elif plot:\n",
    "        G.set_coordinates()\n",
    "        G.plot(title=f\"Grafo trivial para imagem {m}x{n}\")\n",
    "        return G\n",
    "    else:\n",
    "        return G"
   ]
  },
  {
   "cell_type": "markdown",
   "metadata": {},
   "source": [
    "Note que essa construção independe do sinal, então vamos fazê-la a partir da imagem original e computar somente os filtros a partir das imagens com ruido."
   ]
  },
  {
   "cell_type": "code",
   "execution_count": 15,
   "metadata": {},
   "outputs": [],
   "source": [
    "G_classico = grafo_img_simples(img_original, False, False)"
   ]
  },
  {
   "cell_type": "markdown",
   "metadata": {},
   "source": [
    "### Heat"
   ]
  },
  {
   "cell_type": "code",
   "execution_count": 16,
   "metadata": {},
   "outputs": [
    {
     "name": "stderr",
     "output_type": "stream",
     "text": [
      "2024-05-23 13:42:34,270:[WARNING](pygsp.graphs.graph.compute_fourier_basis): Computing the full eigendecomposition of a large matrix (14400 x 14400) may take some time.\n"
     ]
    }
   ],
   "source": [
    "# calculando autofunções\n",
    "G_classico.compute_fourier_basis()"
   ]
  },
  {
   "cell_type": "code",
   "execution_count": 17,
   "metadata": {},
   "outputs": [],
   "source": [
    "U = G_classico.U # autofunções\n",
    "lam = G_classico.e # autovalores"
   ]
  },
  {
   "cell_type": "code",
   "execution_count": 18,
   "metadata": {},
   "outputs": [],
   "source": [
    "aux1 = U.T @ sinal_ruido1\n",
    "aux2 = U.T @ sinal_ruido2"
   ]
  },
  {
   "cell_type": "code",
   "execution_count": 19,
   "metadata": {},
   "outputs": [],
   "source": [
    "# calculando a filtração \n",
    "tau = [1/4, 1/2, 1, 2, 4]\n",
    "\n",
    "heat_ruido1 = [] # resultados da filtração \n",
    "heat_ruido2 = []\n",
    "\n",
    "# listas para guardar as métricas de erro\n",
    "mse_heat1, mse_heat2 = [], []\n",
    "psnr_heat1, psnr_heat2 = [], []\n",
    "for t in tau:\n",
    "    # calculando o sinal filtrado\n",
    "    r1 = U @ heat(lam, tau = t) @ aux1\n",
    "    r2 = U @ heat(lam, tau = t) @ aux2\n",
    "\n",
    "    # guardando resultados\n",
    "    heat_ruido1.append(r1)\n",
    "    heat_ruido2.append(r2)\n",
    "\n",
    "    # metricas de erro\n",
    "    mse_heat1.append(MSE(sinal_original,r1))\n",
    "    mse_heat2.append(MSE(sinal_original,r2))\n",
    "    psnr_heat1.append(PSNR(sinal_original,r1))\n",
    "    psnr_heat2.append(PSNR(sinal_original,r2))"
   ]
  },
  {
   "cell_type": "markdown",
   "metadata": {},
   "source": [
    "### Tikhonov"
   ]
  },
  {
   "cell_type": "code",
   "execution_count": 20,
   "metadata": {},
   "outputs": [],
   "source": [
    "tik_ruido1 = U @ tikhonov(lam, 1) @ aux1\n",
    "tik_ruido2 = U @ tikhonov(lam) @ aux2\n",
    "\n",
    "mse_tik1 = MSE(sinal_original, tik_ruido1) \n",
    "mse_tik2 = MSE(sinal_original, tik_ruido2)\n",
    "psnr_tik1 = PSNR(sinal_original, tik_ruido1)\n",
    "psnr_tik2 = PSNR(sinal_original, tik_ruido2)"
   ]
  },
  {
   "cell_type": "markdown",
   "metadata": {},
   "source": [
    "### Resultados \n",
    "\n",
    "Primeiro vamos comparar os resultados numéricos e depois a olho nu."
   ]
  },
  {
   "cell_type": "code",
   "execution_count": 21,
   "metadata": {},
   "outputs": [
    {
     "data": {
      "text/html": [
       "<div>\n",
       "<style scoped>\n",
       "    .dataframe tbody tr th:only-of-type {\n",
       "        vertical-align: middle;\n",
       "    }\n",
       "\n",
       "    .dataframe tbody tr th {\n",
       "        vertical-align: top;\n",
       "    }\n",
       "\n",
       "    .dataframe thead th {\n",
       "        text-align: right;\n",
       "    }\n",
       "</style>\n",
       "<table border=\"1\" class=\"dataframe\">\n",
       "  <thead>\n",
       "    <tr style=\"text-align: right;\">\n",
       "      <th></th>\n",
       "      <th>Método</th>\n",
       "      <th>MSE 1</th>\n",
       "      <th>MSE 2</th>\n",
       "      <th>PSNR 1</th>\n",
       "      <th>PSNR 2</th>\n",
       "    </tr>\n",
       "  </thead>\n",
       "  <tbody>\n",
       "    <tr>\n",
       "      <th>0</th>\n",
       "      <td>Heat (t = 0.25)</td>\n",
       "      <td>385.6933539509583</td>\n",
       "      <td>418.709536448686</td>\n",
       "      <td>22.268382054534964</td>\n",
       "      <td>21.91167508455599</td>\n",
       "    </tr>\n",
       "    <tr>\n",
       "      <th>1</th>\n",
       "      <td>Heat (t = 0.5)</td>\n",
       "      <td>574.6065954549424</td>\n",
       "      <td>593.8760083265727</td>\n",
       "      <td>20.537097542602794</td>\n",
       "      <td>20.393845800627577</td>\n",
       "    </tr>\n",
       "    <tr>\n",
       "      <th>2</th>\n",
       "      <td>Heat (t = 1)</td>\n",
       "      <td>778.9973438827378</td>\n",
       "      <td>788.7803466441937</td>\n",
       "      <td>19.21544383990002</td>\n",
       "      <td>19.161242797389015</td>\n",
       "    </tr>\n",
       "    <tr>\n",
       "      <th>3</th>\n",
       "      <td>Heat (t = 2)</td>\n",
       "      <td>1011.653376929342</td>\n",
       "      <td>1016.3161799487866</td>\n",
       "      <td>18.08048625313854</td>\n",
       "      <td>18.060515211826267</td>\n",
       "    </tr>\n",
       "    <tr>\n",
       "      <th>4</th>\n",
       "      <td>Heat (t = 4)</td>\n",
       "      <td>1263.7198316111042</td>\n",
       "      <td>1266.299851618298</td>\n",
       "      <td>17.11429559921643</td>\n",
       "      <td>17.10543804883327</td>\n",
       "    </tr>\n",
       "    <tr>\n",
       "      <th>5</th>\n",
       "      <td>Tikhonov</td>\n",
       "      <td>569.2520365836691</td>\n",
       "      <td>587.9175784260369</td>\n",
       "      <td>20.577757678249682</td>\n",
       "      <td>20.43763915308361</td>\n",
       "    </tr>\n",
       "  </tbody>\n",
       "</table>\n",
       "</div>"
      ],
      "text/plain": [
       "            Método               MSE 1               MSE 2  \\\n",
       "0  Heat (t = 0.25)   385.6933539509583    418.709536448686   \n",
       "1   Heat (t = 0.5)   574.6065954549424   593.8760083265727   \n",
       "2     Heat (t = 1)   778.9973438827378   788.7803466441937   \n",
       "3     Heat (t = 2)   1011.653376929342  1016.3161799487866   \n",
       "4     Heat (t = 4)  1263.7198316111042   1266.299851618298   \n",
       "5         Tikhonov   569.2520365836691   587.9175784260369   \n",
       "\n",
       "               PSNR 1              PSNR 2  \n",
       "0  22.268382054534964   21.91167508455599  \n",
       "1  20.537097542602794  20.393845800627577  \n",
       "2   19.21544383990002  19.161242797389015  \n",
       "3   18.08048625313854  18.060515211826267  \n",
       "4   17.11429559921643   17.10543804883327  \n",
       "5  20.577757678249682   20.43763915308361  "
      ]
     },
     "execution_count": 21,
     "metadata": {},
     "output_type": "execute_result"
    }
   ],
   "source": [
    "labels = [f'Heat (t = {ts})' for ts in tau] + [\"Tikhonov\"]\n",
    "mse1 = mse_heat1 + [mse_tik1]\n",
    "psnr1 = psnr_heat1 + [psnr_tik1]\n",
    "mse2 = mse_heat2 + [mse_tik2]\n",
    "psnr2 = psnr_heat2 + [psnr_tik2]\n",
    "resultados = pd.DataFrame(data = np.array([labels,\n",
    "                                            mse1,\n",
    "                                            mse2,\n",
    "                                            psnr1,\n",
    "                                            psnr2]).T,\n",
    "                            columns = ['Método','MSE 1', 'MSE 2', 'PSNR 1','PSNR 2'])\n",
    "resultados"
   ]
  },
  {
   "cell_type": "code",
   "execution_count": 22,
   "metadata": {},
   "outputs": [],
   "source": [
    "cameraman_classico_ruido1_heat1 = Image.fromarray(heat_ruido1[0], 'L')\n",
    "cameraman_classico_ruido1_heat2 = Image.fromarray(heat_ruido1[1], 'L')\n",
    "cameraman_classico_ruido1_heat3 = Image.fromarray(heat_ruido1[2], 'L') \n",
    "cameraman_classico_ruido1_heat4 = Image.fromarray(heat_ruido1[3], 'L') \n",
    "cameraman_classico_ruido1_heat5 = Image.fromarray(heat_ruido1[4], 'L') \n",
    "\n",
    "cameraman_classico_ruido2_heat1 = Image.fromarray(heat_ruido2[0], 'L')\n",
    "cameraman_classico_ruido2_heat2 = Image.fromarray(heat_ruido2[1], 'L')\n",
    "cameraman_classico_ruido2_heat3 = Image.fromarray(heat_ruido2[2], 'L') \n",
    "cameraman_classico_ruido2_heat4 = Image.fromarray(heat_ruido2[3], 'L') \n",
    "cameraman_classico_ruido2_heat5 = Image.fromarray(heat_ruido2[4], 'L') \n",
    "\n",
    "cameraman_classico_ruido1_tik = Image.fromarray(tik_ruido1,'L')\n",
    "cameraman_classico_ruido2_tik = Image.fromarray(tik_ruido2,'L')\n"
   ]
  },
  {
   "cell_type": "code",
   "execution_count": 23,
   "metadata": {},
   "outputs": [],
   "source": [
    "# salvando as imagens \n",
    "# ruido 1\n",
    "plt.imsave('cameraman_CR1H1.png', cameraman_classico_ruido1_heat1, cmap='gray')\n",
    "plt.imsave('cameraman_CR1H2.png', cameraman_classico_ruido1_heat2, cmap='gray')\n",
    "plt.imsave('cameraman_CR1H3.png', cameraman_classico_ruido1_heat3, cmap='gray')\n",
    "plt.imsave('cameraman_CR1H4.png', cameraman_classico_ruido1_heat4, cmap='gray')\n",
    "plt.imsave('cameraman_CR1H5.png', cameraman_classico_ruido1_heat5, cmap='gray')\n",
    "\n",
    "# tikhonov\n",
    "plt.imsave('cameraman_CR1TIK.png', cameraman_classico_ruido1_tik, cmap='gray')\n",
    "\n",
    "# ruido 2\n",
    "plt.imsave('cameraman_CR2H1.png', cameraman_classico_ruido2_heat1, cmap='gray')\n",
    "plt.imsave('cameraman_CR2H2.png', cameraman_classico_ruido2_heat2, cmap='gray')\n",
    "plt.imsave('cameraman_CR2H3.png', cameraman_classico_ruido2_heat3, cmap='gray')\n",
    "plt.imsave('cameraman_CR2H4.png', cameraman_classico_ruido2_heat4, cmap='gray')\n",
    "plt.imsave('cameraman_CR2H5.png', cameraman_classico_ruido2_heat5, cmap='gray')\n",
    "\n",
    "# tikhonov\n",
    "plt.imsave('cameraman_CR2TIK.png', cameraman_classico_ruido2_tik, cmap='gray')"
   ]
  },
  {
   "cell_type": "markdown",
   "metadata": {},
   "source": [
    "#### Ruido 1\n",
    "Original|Heat 1|Heat 2|Heat 3|Heat 4|Heat 5|Tikhonov\n",
    ":---:|:---:|:---:|:---:|:---:|:---:|:---:\n",
    "![cameraman_original_reduzido.png](attachment:cameraman_original_reduzido.png)| ![cameraman_CR1H1.png](attachment:cameraman_CR1H1.png)| ![cameraman_CR1H2.png](attachment:cameraman_CR1H2.png)| ![cameraman_CR1H3.png](attachment:cameraman_CR1H3.png)| ![cameraman_CR1H4.png](attachment:cameraman_CR1H4.png)| ![cameraman_CR1H5.png](attachment:cameraman_CR1H5.png)| ![cameraman_CR1TIK.png](attachment:cameraman_CR1TIK.png)"
   ]
  },
  {
   "cell_type": "markdown",
   "metadata": {},
   "source": [
    "#### Ruido 2\n",
    "Original|Heat 1|Heat 2|Heat 3|Heat 4|Heat 5|Tikhonov\n",
    ":---:|:---:|:---:|:---:|:---:|:---:|:---:\n",
    "![cameraman_original_reduzido.png](attachment:cameraman_original_reduzido.png)| ![cameraman_CR2H1.png](attachment:cameraman_CR2H1.png)| ![cameraman_CR2H2.png](attachment:cameraman_CR2H2.png)| ![cameraman_CR2H3.png](attachment:cameraman_CR2H3.png)| ![cameraman_CR2H4.png](attachment:cameraman_CR2H4.png)| ![cameraman_CR2H5.png](attachment:cameraman_CR2H5.png)| ![cameraman_CR2TIK.png](attachment:cameraman_CR2TIK.png)"
   ]
  },
  {
   "cell_type": "markdown",
   "metadata": {},
   "source": [
    "## Grafo com Pesos\n",
    "\n",
    "Nessa seção, introduzimos um novo método para construção dos grafos, em que é aplicado um peso Gaussiano quando dois vértices são $\\kappa$-próximos, ou seja, \n",
    "\n",
    "$$a_{ij} = e^{- d^2 / 2 \\sigma^2}, \\text{se} |d(i,j)| < \\kappa$$\n",
    "\n",
    "A distância aqui utilizada é a diferença entre as cores de cada pixel em grayscale."
   ]
  },
  {
   "cell_type": "code",
   "execution_count": 35,
   "metadata": {},
   "outputs": [],
   "source": [
    "def grafo_peso_grayscale(img,th,kap,adj=False,plot=True):\n",
    "    '''Função que constrói o grafo para uma imagem em escala de cinzas\n",
    "    a partir do gradiente de cor. Os pesos atribuidos a cada vértice serão\n",
    "    uma gaussiana de variância theta^2 avaliada em em x = gray(i) - gray(j), \n",
    "     onde gray() é o valor na escala de cinzas de cada pixel.\n",
    "      \n",
    "    Parâmetros:\n",
    "     - img (array): matrix representando a imagem, suas entradas correspondem ao valor\n",
    "     de cada vértice na escala de cinza\n",
    "     - th (float): desvio padrão da Gaussiana\n",
    "     - kap (float): threshold de conexão dos vértices'''\n",
    "    \n",
    "    m,n = img.shape\n",
    "    img_array = np.array(img).reshape(n*m)\n",
    "    N = m*n\n",
    "    W = np.zeros((N,N))\n",
    "    #W = sp.coo_matrix(shape=(N,N),dtype=np.float16)\n",
    "    for i in range(N):\n",
    "        for j in range(N):\n",
    "            dist = abs(img_array[i] - img_array[j])\n",
    "            #print(img[ij,ii],img[jj,ji],dist)\n",
    "            if dist < kap and i!=j:\n",
    "                W[i,j] = np.exp(-((dist*dist)/(2*th*th)), dtype=np.float32)\n",
    "                #print(W[i,j])\n",
    "                assert W[i,j] <= 1 \n",
    "    \n",
    "    G = graphs.Graph(W)\n",
    "    if adj:\n",
    "        return G, W\n",
    "    elif plot:\n",
    "        G.set_coordinates()\n",
    "        G.plot(title=f\"Grafo com pesos $\\kappa =$ {kap}\")\n",
    "        return G\n",
    "    else:\n",
    "        return G\n",
    "    "
   ]
  },
  {
   "cell_type": "markdown",
   "metadata": {},
   "source": [
    "Diferentemente do primeiro grafo, essa construção depende do valor do sinal para calcular as distâncias entre os vértices, então temos um grafo para cada ruído diferente."
   ]
  },
  {
   "cell_type": "code",
   "execution_count": 36,
   "metadata": {},
   "outputs": [
    {
     "name": "stderr",
     "output_type": "stream",
     "text": [
      "C:\\Users\\Beatriz\\AppData\\Local\\Temp\\ipykernel_2424\\622753297.py:20: RuntimeWarning: overflow encountered in scalar subtract\n",
      "  dist = abs(img_array[i] - img_array[j])\n"
     ]
    }
   ],
   "source": [
    "G_ruido1_peso = grafo_peso_grayscale(img_ruido1, 1, 5, False,False)\n",
    "G_ruido2_peso = grafo_peso_grayscale(img_ruido2, 1, 5, False,False)"
   ]
  },
  {
   "cell_type": "code",
   "execution_count": 37,
   "metadata": {},
   "outputs": [
    {
     "name": "stderr",
     "output_type": "stream",
     "text": [
      "2024-05-23 15:11:18,435:[WARNING](pygsp.graphs.graph.compute_fourier_basis): Computing the full eigendecomposition of a large matrix (14400 x 14400) may take some time.\n"
     ]
    }
   ],
   "source": [
    "G_ruido1_peso.compute_fourier_basis()\n",
    "G_ruido1_peso.e[0] = 0 "
   ]
  },
  {
   "cell_type": "code",
   "execution_count": 38,
   "metadata": {},
   "outputs": [
    {
     "name": "stderr",
     "output_type": "stream",
     "text": [
      "2024-05-23 15:17:57,968:[WARNING](pygsp.graphs.graph.compute_fourier_basis): Computing the full eigendecomposition of a large matrix (14400 x 14400) may take some time.\n"
     ]
    }
   ],
   "source": [
    "G_ruido2_peso.compute_fourier_basis()\n",
    "G_ruido2_peso.e[0] = 0"
   ]
  },
  {
   "cell_type": "code",
   "execution_count": 40,
   "metadata": {},
   "outputs": [],
   "source": [
    "U_peso1 = G_ruido1_peso.U\n",
    "lam1 = G_ruido1_peso.e \n",
    "\n",
    "U_peso2 = G_ruido2_peso.U\n",
    "lam2 = G_ruido2_peso.e\n",
    "\n",
    "aux1 = U_peso1.T @ sinal_ruido1\n",
    "aux2 = U_peso2.T @ sinal_ruido2"
   ]
  },
  {
   "cell_type": "markdown",
   "metadata": {},
   "source": [
    "### Heat"
   ]
  },
  {
   "cell_type": "code",
   "execution_count": 41,
   "metadata": {},
   "outputs": [],
   "source": [
    "# calculando a filtração \n",
    "tau = [1/4, 1/2, 1, 2, 4]\n",
    "\n",
    "heat_peso1 = [] # resultados da filtração \n",
    "heat_peso2 = []\n",
    "\n",
    "# listas para guardar as métricas de erro\n",
    "mse_peso1, mse_peso2 = [], []\n",
    "psnr_peso1, psnr_peso2 = [], []\n",
    "for t in tau:\n",
    "    # calculando o sinal filtrado\n",
    "    r1 = U_peso1 @ heat(lam1, tau = t) @ aux1\n",
    "    r2 = U_peso2 @ heat(lam2, tau = t) @ aux2\n",
    "\n",
    "    # guardando resultados\n",
    "    heat_peso1.append(r1)\n",
    "    heat_peso2.append(r2)\n",
    "\n",
    "    # metricas de erro\n",
    "    mse_peso1.append(MSE(sinal_original,r1))\n",
    "    mse_peso2.append(MSE(sinal_original,r2))\n",
    "    psnr_peso1.append(PSNR(sinal_original,r1))\n",
    "    psnr_peso2.append(PSNR(sinal_original,r2))"
   ]
  },
  {
   "cell_type": "markdown",
   "metadata": {},
   "source": [
    "### Tikhonov"
   ]
  },
  {
   "cell_type": "code",
   "execution_count": 42,
   "metadata": {},
   "outputs": [],
   "source": [
    "tik_peso1 = U_peso1 @ tikhonov(lam1, 1) @ aux1\n",
    "tik_peso2 = U_peso2 @ tikhonov(lam2) @ aux2\n",
    "\n",
    "mse_tik_peso1 = MSE(sinal_original, tik_peso1) \n",
    "mse_tik_peso2 = MSE(sinal_original, tik_peso2)\n",
    "psnr_tik_peso1 = PSNR(sinal_original, tik_peso1)\n",
    "psnr_tik_peso2 = PSNR(sinal_original, tik_peso2)"
   ]
  },
  {
   "cell_type": "markdown",
   "metadata": {},
   "source": [
    "### Resultados\n",
    "\n",
    "Como no caso anterior, vamos fazer os resultados numéricos primeiro."
   ]
  },
  {
   "cell_type": "code",
   "execution_count": 43,
   "metadata": {},
   "outputs": [
    {
     "data": {
      "text/html": [
       "<div>\n",
       "<style scoped>\n",
       "    .dataframe tbody tr th:only-of-type {\n",
       "        vertical-align: middle;\n",
       "    }\n",
       "\n",
       "    .dataframe tbody tr th {\n",
       "        vertical-align: top;\n",
       "    }\n",
       "\n",
       "    .dataframe thead th {\n",
       "        text-align: right;\n",
       "    }\n",
       "</style>\n",
       "<table border=\"1\" class=\"dataframe\">\n",
       "  <thead>\n",
       "    <tr style=\"text-align: right;\">\n",
       "      <th></th>\n",
       "      <th>Método</th>\n",
       "      <th>MSE 1</th>\n",
       "      <th>PSNR 1</th>\n",
       "      <th>MSE 2</th>\n",
       "      <th>PSNR 2</th>\n",
       "    </tr>\n",
       "  </thead>\n",
       "  <tbody>\n",
       "    <tr>\n",
       "      <th>0</th>\n",
       "      <td>Heat (t = 0.25)</td>\n",
       "      <td>103.62961104472052</td>\n",
       "      <td>27.97596492757348</td>\n",
       "      <td>193.0923929204065</td>\n",
       "      <td>25.273151962431847</td>\n",
       "    </tr>\n",
       "    <tr>\n",
       "      <th>1</th>\n",
       "      <td>Heat (t = 0.5)</td>\n",
       "      <td>108.2864121813667</td>\n",
       "      <td>27.785063962543635</td>\n",
       "      <td>193.14107556956122</td>\n",
       "      <td>25.27205715280352</td>\n",
       "    </tr>\n",
       "    <tr>\n",
       "      <th>2</th>\n",
       "      <td>Heat (t = 1)</td>\n",
       "      <td>118.67292071661127</td>\n",
       "      <td>27.387287297398927</td>\n",
       "      <td>198.43312570227997</td>\n",
       "      <td>25.154661874608212</td>\n",
       "    </tr>\n",
       "    <tr>\n",
       "      <th>3</th>\n",
       "      <td>Heat (t = 2)</td>\n",
       "      <td>137.93444014444458</td>\n",
       "      <td>26.734076443857237</td>\n",
       "      <td>212.88670428151295</td>\n",
       "      <td>24.849318221984092</td>\n",
       "    </tr>\n",
       "    <tr>\n",
       "      <th>4</th>\n",
       "      <td>Heat (t = 4)</td>\n",
       "      <td>165.4626573350533</td>\n",
       "      <td>25.943803660386294</td>\n",
       "      <td>236.7383267579711</td>\n",
       "      <td>24.388117871296007</td>\n",
       "    </tr>\n",
       "    <tr>\n",
       "      <th>5</th>\n",
       "      <td>Tikhonov</td>\n",
       "      <td>111.96752178402981</td>\n",
       "      <td>27.639882949432817</td>\n",
       "      <td>194.18722267612947</td>\n",
       "      <td>25.248597104957682</td>\n",
       "    </tr>\n",
       "  </tbody>\n",
       "</table>\n",
       "</div>"
      ],
      "text/plain": [
       "            Método               MSE 1              PSNR 1  \\\n",
       "0  Heat (t = 0.25)  103.62961104472052   27.97596492757348   \n",
       "1   Heat (t = 0.5)   108.2864121813667  27.785063962543635   \n",
       "2     Heat (t = 1)  118.67292071661127  27.387287297398927   \n",
       "3     Heat (t = 2)  137.93444014444458  26.734076443857237   \n",
       "4     Heat (t = 4)   165.4626573350533  25.943803660386294   \n",
       "5         Tikhonov  111.96752178402981  27.639882949432817   \n",
       "\n",
       "                MSE 2              PSNR 2  \n",
       "0   193.0923929204065  25.273151962431847  \n",
       "1  193.14107556956122   25.27205715280352  \n",
       "2  198.43312570227997  25.154661874608212  \n",
       "3  212.88670428151295  24.849318221984092  \n",
       "4   236.7383267579711  24.388117871296007  \n",
       "5  194.18722267612947  25.248597104957682  "
      ]
     },
     "execution_count": 43,
     "metadata": {},
     "output_type": "execute_result"
    }
   ],
   "source": [
    "labels = [f'Heat (t = {ts})' for ts in tau] + [\"Tikhonov\"]\n",
    "resultados = pd.DataFrame(data = np.array([labels,\n",
    "                                            mse_peso1 + [mse_tik_peso1],\n",
    "                                            psnr_peso1 + [psnr_tik_peso1],\n",
    "                                            mse_peso2 + [mse_tik_peso2],\n",
    "                                            psnr_peso2 + [psnr_tik_peso2]]).T,\n",
    "                            columns = ['Método','MSE 1', 'PSNR 1', 'MSE 2','PSNR 2'])\n",
    "resultados"
   ]
  },
  {
   "cell_type": "markdown",
   "metadata": {},
   "source": [
    "Agora, a comparação a olho nu."
   ]
  },
  {
   "cell_type": "code",
   "execution_count": 44,
   "metadata": {},
   "outputs": [],
   "source": [
    "cameraman_peso_ruido1_heat1 = Image.fromarray(heat_peso1[0], 'L')\n",
    "cameraman_peso_ruido1_heat2 = Image.fromarray(heat_peso1[1], 'L')\n",
    "cameraman_peso_ruido1_heat3 = Image.fromarray(heat_peso1[2], 'L') \n",
    "cameraman_peso_ruido1_heat4 = Image.fromarray(heat_peso1[3], 'L') \n",
    "cameraman_peso_ruido1_heat5 = Image.fromarray(heat_peso1[4], 'L') \n",
    "\n",
    "cameraman_peso_ruido2_heat1 = Image.fromarray(heat_peso2[0], 'L')\n",
    "cameraman_peso_ruido2_heat2 = Image.fromarray(heat_peso2[1], 'L')\n",
    "cameraman_peso_ruido2_heat3 = Image.fromarray(heat_peso2[2], 'L') \n",
    "cameraman_peso_ruido2_heat4 = Image.fromarray(heat_peso2[3], 'L') \n",
    "cameraman_peso_ruido2_heat5 = Image.fromarray(heat_peso2[4], 'L') \n",
    "\n",
    "cameraman_peso_ruido1_tik = Image.fromarray(tik_peso1,'L')\n",
    "cameraman_peso_ruido2_tik = Image.fromarray(tik_peso2,'L')\n"
   ]
  },
  {
   "cell_type": "code",
   "execution_count": 45,
   "metadata": {},
   "outputs": [],
   "source": [
    "# salvando as imagens \n",
    "# ruido 1\n",
    "plt.imsave('cameraman_PR1H1.png', cameraman_peso_ruido1_heat1, cmap='gray')\n",
    "plt.imsave('cameraman_PR1H2.png', cameraman_peso_ruido1_heat2, cmap='gray')\n",
    "plt.imsave('cameraman_PR1H3.png', cameraman_peso_ruido1_heat3, cmap='gray')\n",
    "plt.imsave('cameraman_PR1H4.png', cameraman_peso_ruido1_heat4, cmap='gray')\n",
    "plt.imsave('cameraman_PR1H5.png', cameraman_peso_ruido1_heat5, cmap='gray')\n",
    "\n",
    "# tikhonov\n",
    "plt.imsave('cameraman_PR1TIK.png', cameraman_peso_ruido1_tik, cmap='gray')\n",
    "\n",
    "# ruido 2\n",
    "plt.imsave('cameraman_PR2H1.png', cameraman_peso_ruido1_heat1, cmap='gray')\n",
    "plt.imsave('cameraman_PR2H2.png', cameraman_peso_ruido1_heat2, cmap='gray')\n",
    "plt.imsave('cameraman_PR2H3.png', cameraman_peso_ruido1_heat3, cmap='gray')\n",
    "plt.imsave('cameraman_PR2H4.png', cameraman_peso_ruido1_heat4, cmap='gray')\n",
    "plt.imsave('cameraman_PR2H5.png', cameraman_peso_ruido1_heat5, cmap='gray')\n",
    "\n",
    "# tikhonov\n",
    "plt.imsave('cameraman_PR2TIK.png', cameraman_peso_ruido2_tik, cmap='gray')"
   ]
  },
  {
   "cell_type": "markdown",
   "metadata": {},
   "source": [
    "#### Ruido 1 - Pesos\n",
    "Original|Heat 1|Heat 2|Heat 3|Heat 4|Heat 5|Tikhonov\n",
    ":---:|:---:|:---:|:---:|:---:|:---:|:---:\n",
    "![cameraman_original_reduzido.png](attachment:cameraman_original.png)| ![cameraman_PR1H1.png](attachment:cameraman_PR1H1.png)| ![cameraman_PR1H2.png](attachment:cameraman_PR1H2.png)| ![cameraman_PR1H3.png](attachment:cameraman_PR1H3.png)| ![cameraman_PR1H4.png](attachment:cameraman_PR1H4.png)| ![cameraman_PR1H5.png](attachment:cameraman_PR1H5.png)| ![cameraman_PR1TIK.png](attachment:cameraman_PR1TIK.png)"
   ]
  },
  {
   "cell_type": "markdown",
   "metadata": {},
   "source": [
    "#### Ruido 2 - Pesos\n",
    "Original|Heat 1|Heat 2|Heat 3|Heat 4|Heat 5|Tikhonov\n",
    ":---:|:---:|:---:|:---:|:---:|:---:|:---:\n",
    "![cameraman_original.jpg](attachment:cameraman_original.jpg)| ![cameraman_PR2H1.png](attachment:cameraman_PR2H1.png)| ![cameraman_PR2H2.png](attachment:cameraman_PR2H2.png)| ![cameraman_PR2H3.png](attachment:cameraman_PR2H3.png)| ![cameraman_PR2H4.png](attachment:cameraman_PR2H4.png)| ![cameraman_PR2H5.png](attachment:cameraman_PR2H5.png)| ![cameraman_PR2TIK.png](attachment:cameraman_PR2TIK.png)"
   ]
  },
  {
   "cell_type": "markdown",
   "metadata": {},
   "source": [
    "## Comparação com o PyGSP\n",
    "\n",
    "Como o filtro de regularização à Tikhonov não é implementado em nenhum método do PyGSP, vamos comparar apenas com o filtro heat.\n",
    "\n",
    "Como o `compute_fourier_basis` é comum aos dois métodos, basta calcular $Uh(\\lambda)U^T x$, onde:\n",
    "\n",
    "* $U$ é a matriz de autovetores de $L$\n",
    "* $h(\\lambda)$ é a função que define o filtro aplicada aos autovalores\n",
    "* $x$ é o sinal"
   ]
  },
  {
   "cell_type": "markdown",
   "metadata": {},
   "source": [
    "### Ruido 1"
   ]
  },
  {
   "cell_type": "code",
   "execution_count": 46,
   "metadata": {},
   "outputs": [],
   "source": [
    "%%timeit\n",
    "U @ heat(lam, tau = 1) @ U.T @ sinal_ruido1"
   ]
  },
  {
   "cell_type": "code",
   "execution_count": null,
   "metadata": {},
   "outputs": [
    {
     "name": "stdout",
     "output_type": "stream",
     "text": [
      "10min 30s ± 9.68 s per loop (mean ± std. dev. of 7 runs, 1 loop each)\n"
     ]
    }
   ],
   "source": [
    "%%timeit\n",
    "U_peso1 @ heat(lam1, tau = 1) @ U_peso1.T @ sinal_ruido1"
   ]
  },
  {
   "cell_type": "code",
   "execution_count": null,
   "metadata": {},
   "outputs": [
    {
     "name": "stdout",
     "output_type": "stream",
     "text": [
      "1.43 s ± 29.9 ms per loop (mean ± std. dev. of 7 runs, 1 loop each)\n"
     ]
    }
   ],
   "source": [
    "%%timeit\n",
    "filters.Heat(G_classico,1).filter(sinal_ruido1,method='exact')"
   ]
  },
  {
   "cell_type": "markdown",
   "metadata": {},
   "source": [
    "### Ruido 2"
   ]
  },
  {
   "cell_type": "code",
   "execution_count": null,
   "metadata": {},
   "outputs": [
    {
     "name": "stdout",
     "output_type": "stream",
     "text": [
      "4min 43s ± 4.85 s per loop (mean ± std. dev. of 7 runs, 1 loop each)\n"
     ]
    }
   ],
   "source": [
    "%%timeit\n",
    "U @ heat(lam, tau = 1) @ U.T @ sinal_ruido2"
   ]
  },
  {
   "cell_type": "code",
   "execution_count": null,
   "metadata": {},
   "outputs": [
    {
     "name": "stdout",
     "output_type": "stream",
     "text": [
      "7min 15s ± 1.99 s per loop (mean ± std. dev. of 7 runs, 1 loop each)\n"
     ]
    }
   ],
   "source": [
    "%%timeit \n",
    "U_peso2 @ heat(lam2, tau = 1)  @ U_peso2.T @ sinal_ruido2"
   ]
  },
  {
   "cell_type": "code",
   "execution_count": null,
   "metadata": {},
   "outputs": [
    {
     "name": "stdout",
     "output_type": "stream",
     "text": [
      "1.63 s ± 88.2 ms per loop (mean ± std. dev. of 7 runs, 1 loop each)\n"
     ]
    }
   ],
   "source": [
    "%%timeit\n",
    "filters.Heat(G_classico,1).filter(sinal_ruido2,method='exact')"
   ]
  },
  {
   "cell_type": "markdown",
   "metadata": {},
   "source": [
    "### Resultados"
   ]
  },
  {
   "cell_type": "markdown",
   "metadata": {},
   "source": []
  }
 ],
 "metadata": {
  "kernelspec": {
   "display_name": "Python 3",
   "language": "python",
   "name": "python3"
  },
  "language_info": {
   "codemirror_mode": {
    "name": "ipython",
    "version": 3
   },
   "file_extension": ".py",
   "mimetype": "text/x-python",
   "name": "python",
   "nbconvert_exporter": "python",
   "pygments_lexer": "ipython3",
   "version": "3.11.4"
  }
 },
 "nbformat": 4,
 "nbformat_minor": 2
}
