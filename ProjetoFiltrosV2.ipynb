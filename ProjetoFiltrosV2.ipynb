{
 "cells": [
  {
   "cell_type": "markdown",
   "metadata": {},
   "source": [
    "# Projeto Filtros AdFG\n",
    "\n",
    "Nesse projeto, visamos comparar diferentes tipos de filtros com relação a diferentes ruídos em uma mesma imagem.\n",
    "\n",
    "Os filtros propostos são o filtro do kernel da equação do calor e também o de regularização à Tikhonov, este sendo um caso particular de um filtro $ARMA(p,q)$.\n",
    "\n",
    "Eles são definidos por:\n",
    "\n",
    "$$\\text{heat} (\\lambda) = e^{- \\tau \\lambda}$$\n",
    "\n",
    "onde $\\tau$ é um parâmetro real a ser definido, e\n",
    "\n",
    "$$\\text{Tikhonov} (\\lambda) = \\frac{1}{1 + \\gamma \\lambda}$$\n",
    "\n",
    "onde $\\gamma$ é um parâmetro real a ser escolhido. \n",
    "\n",
    "Ambos os filtros tem implementação na biblioteca `PyGSP`, com a qual faremos a comparação de desempenho no final do trabalho."
   ]
  },
  {
   "cell_type": "markdown",
   "metadata": {},
   "source": [
    "## Imports"
   ]
  },
  {
   "cell_type": "code",
   "execution_count": 5,
   "metadata": {},
   "outputs": [
    {
     "name": "stdout",
     "output_type": "stream",
     "text": [
      "Collecting opencv-python\n",
      "  Downloading opencv_python-4.9.0.80-cp37-abi3-win_amd64.whl.metadata (20 kB)\n",
      "Requirement already satisfied: numpy>=1.21.2 in c:\\users\\mevel\\appdata\\local\\packages\\pythonsoftwarefoundation.python.3.11_qbz5n2kfra8p0\\localcache\\local-packages\\python311\\site-packages (from opencv-python) (1.26.4)\n",
      "Downloading opencv_python-4.9.0.80-cp37-abi3-win_amd64.whl (38.6 MB)\n",
      "   ---------------------------------------- 0.0/38.6 MB ? eta -:--:--\n",
      "   ---------------------------------------- 0.3/38.6 MB 5.7 MB/s eta 0:00:07\n",
      "    --------------------------------------- 0.6/38.6 MB 8.1 MB/s eta 0:00:05\n",
      "   - -------------------------------------- 1.0/38.6 MB 7.2 MB/s eta 0:00:06\n",
      "   - -------------------------------------- 1.7/38.6 MB 8.4 MB/s eta 0:00:05\n",
      "   -- ------------------------------------- 2.5/38.6 MB 9.2 MB/s eta 0:00:04\n",
      "   ---- ----------------------------------- 3.9/38.6 MB 10.0 MB/s eta 0:00:04\n",
      "   ---- ----------------------------------- 4.6/38.6 MB 10.2 MB/s eta 0:00:04\n",
      "   ----- ---------------------------------- 5.7/38.6 MB 10.4 MB/s eta 0:00:04\n",
      "   ------ --------------------------------- 6.1/38.6 MB 10.2 MB/s eta 0:00:04\n",
      "   ------- -------------------------------- 7.1/38.6 MB 10.8 MB/s eta 0:00:03\n",
      "   ------- -------------------------------- 7.7/38.6 MB 10.7 MB/s eta 0:00:03\n",
      "   --------- ------------------------------ 8.7/38.6 MB 10.9 MB/s eta 0:00:03\n",
      "   --------- ------------------------------ 9.2/38.6 MB 10.9 MB/s eta 0:00:03\n",
      "   ---------- ----------------------------- 9.9/38.6 MB 10.9 MB/s eta 0:00:03\n",
      "   ---------- ----------------------------- 10.5/38.6 MB 11.3 MB/s eta 0:00:03\n",
      "   ----------- ---------------------------- 11.0/38.6 MB 11.3 MB/s eta 0:00:03\n",
      "   ------------ --------------------------- 11.8/38.6 MB 11.7 MB/s eta 0:00:03\n",
      "   ------------ --------------------------- 12.3/38.6 MB 11.7 MB/s eta 0:00:03\n",
      "   ------------- -------------------------- 13.5/38.6 MB 11.9 MB/s eta 0:00:03\n",
      "   -------------- ------------------------- 14.0/38.6 MB 11.7 MB/s eta 0:00:03\n",
      "   --------------- ------------------------ 14.7/38.6 MB 11.7 MB/s eta 0:00:03\n",
      "   --------------- ------------------------ 15.2/38.6 MB 11.7 MB/s eta 0:00:03\n",
      "   ---------------- ----------------------- 15.7/38.6 MB 11.5 MB/s eta 0:00:02\n",
      "   ---------------- ----------------------- 16.3/38.6 MB 11.9 MB/s eta 0:00:02\n",
      "   ----------------- ---------------------- 16.8/38.6 MB 11.7 MB/s eta 0:00:02\n",
      "   ----------------- ---------------------- 17.3/38.6 MB 11.7 MB/s eta 0:00:02\n",
      "   ------------------ --------------------- 17.9/38.6 MB 11.5 MB/s eta 0:00:02\n",
      "   ------------------- -------------------- 18.5/38.6 MB 11.7 MB/s eta 0:00:02\n",
      "   ------------------- -------------------- 19.0/38.6 MB 11.5 MB/s eta 0:00:02\n",
      "   -------------------- ------------------- 19.5/38.6 MB 11.7 MB/s eta 0:00:02\n",
      "   -------------------- ------------------- 20.0/38.6 MB 11.5 MB/s eta 0:00:02\n",
      "   --------------------- ------------------ 20.6/38.6 MB 11.5 MB/s eta 0:00:02\n",
      "   --------------------- ------------------ 21.1/38.6 MB 11.5 MB/s eta 0:00:02\n",
      "   ---------------------- ----------------- 21.7/38.6 MB 11.5 MB/s eta 0:00:02\n",
      "   ----------------------- ---------------- 22.3/38.6 MB 11.7 MB/s eta 0:00:02\n",
      "   ----------------------- ---------------- 22.8/38.6 MB 11.5 MB/s eta 0:00:02\n",
      "   ------------------------ --------------- 23.4/38.6 MB 11.5 MB/s eta 0:00:02\n",
      "   ------------------------ --------------- 23.9/38.6 MB 11.7 MB/s eta 0:00:02\n",
      "   ------------------------- -------------- 24.5/38.6 MB 11.5 MB/s eta 0:00:02\n",
      "   ------------------------- -------------- 24.9/38.6 MB 11.5 MB/s eta 0:00:02\n",
      "   -------------------------- ------------- 25.4/38.6 MB 11.5 MB/s eta 0:00:02\n",
      "   -------------------------- ------------- 26.0/38.6 MB 11.5 MB/s eta 0:00:02\n",
      "   --------------------------- ------------ 26.5/38.6 MB 11.5 MB/s eta 0:00:02\n",
      "   ---------------------------- ----------- 27.0/38.6 MB 11.5 MB/s eta 0:00:02\n",
      "   ---------------------------- ----------- 27.6/38.6 MB 11.5 MB/s eta 0:00:01\n",
      "   ----------------------------- ---------- 28.1/38.6 MB 11.5 MB/s eta 0:00:01\n",
      "   ----------------------------- ---------- 28.7/38.6 MB 11.5 MB/s eta 0:00:01\n",
      "   ------------------------------ --------- 29.2/38.6 MB 11.5 MB/s eta 0:00:01\n",
      "   ------------------------------ --------- 29.7/38.6 MB 11.5 MB/s eta 0:00:01\n",
      "   ------------------------------- -------- 30.4/38.6 MB 11.7 MB/s eta 0:00:01\n",
      "   -------------------------------- ------- 30.9/38.6 MB 11.7 MB/s eta 0:00:01\n",
      "   -------------------------------- ------- 31.7/38.6 MB 11.7 MB/s eta 0:00:01\n",
      "   --------------------------------- ------ 32.2/38.6 MB 11.7 MB/s eta 0:00:01\n",
      "   --------------------------------- ------ 32.7/38.6 MB 11.7 MB/s eta 0:00:01\n",
      "   ---------------------------------- ----- 33.3/38.6 MB 11.7 MB/s eta 0:00:01\n",
      "   ---------------------------------- ----- 33.8/38.6 MB 11.7 MB/s eta 0:00:01\n",
      "   ----------------------------------- ---- 34.4/38.6 MB 11.7 MB/s eta 0:00:01\n",
      "   ------------------------------------ --- 34.9/38.6 MB 11.7 MB/s eta 0:00:01\n",
      "   ------------------------------------ --- 35.4/38.6 MB 11.5 MB/s eta 0:00:01\n",
      "   ------------------------------------- -- 35.9/38.6 MB 11.5 MB/s eta 0:00:01\n",
      "   ------------------------------------- -- 36.5/38.6 MB 11.5 MB/s eta 0:00:01\n",
      "   -------------------------------------- - 37.0/38.6 MB 11.5 MB/s eta 0:00:01\n",
      "   -------------------------------------- - 37.6/38.6 MB 11.7 MB/s eta 0:00:01\n",
      "   ---------------------------------------  38.3/38.6 MB 11.7 MB/s eta 0:00:01\n",
      "   ---------------------------------------  38.6/38.6 MB 11.5 MB/s eta 0:00:01\n",
      "   ---------------------------------------  38.6/38.6 MB 11.5 MB/s eta 0:00:01\n",
      "   ---------------------------------------  38.6/38.6 MB 11.5 MB/s eta 0:00:01\n",
      "   ---------------------------------------  38.6/38.6 MB 11.5 MB/s eta 0:00:01\n",
      "   ---------------------------------------  38.6/38.6 MB 11.5 MB/s eta 0:00:01\n",
      "   ---------------------------------------- 38.6/38.6 MB 8.4 MB/s eta 0:00:00\n",
      "Installing collected packages: opencv-python\n",
      "Successfully installed opencv-python-4.9.0.80\n",
      "Note: you may need to restart the kernel to use updated packages.\n"
     ]
    }
   ],
   "source": [
    "pip install opencv-python\n"
   ]
  },
  {
   "cell_type": "code",
   "execution_count": 1,
   "metadata": {},
   "outputs": [],
   "source": [
    "# bibliotecas \n",
    "import numpy as np \n",
    "import matplotlib.pyplot as plt\n",
    "from pygsp import graphs, filters, plotting \n",
    "from PIL import Image, ImageFilter\n",
    "import scipy.sparse as sp\n",
    "import cv2 # para mudar o tamanho das fotos"
   ]
  },
  {
   "cell_type": "code",
   "execution_count": 2,
   "metadata": {},
   "outputs": [
    {
     "name": "stdout",
     "output_type": "stream",
     "text": [
      "Tamanho original:  (256, 256)\n",
      "Tamanho ruido 1:  (256, 256)\n",
      "Tamanho ruido 2:  (256, 256)\n"
     ]
    }
   ],
   "source": [
    "# abrindo imagens\n",
    "img_original = cv2.imread('cameraman_original.jpg')\n",
    "img_ruido1 = cv2.imread('cameraman_ruido.jpg')\n",
    "img_ruido2 = cv2.imread('cameraman_ruido2.jpg')\n",
    "\n",
    "print(\"Tamanho original: \", img_original.shape[:2])\n",
    "print(\"Tamanho ruido 1: \", img_ruido1.shape[:2])\n",
    "print(\"Tamanho ruido 2: \", img_ruido2.shape[:2])"
   ]
  },
  {
   "cell_type": "markdown",
   "metadata": {},
   "source": [
    "### Reduzindo as imagens"
   ]
  },
  {
   "cell_type": "code",
   "execution_count": 3,
   "metadata": {},
   "outputs": [
    {
     "name": "stdout",
     "output_type": "stream",
     "text": [
      "Tamanho original:  (120, 120)\n",
      "Tamanho ruido 1:  (120, 120)\n",
      "Tamanho ruido 2:  (120, 120)\n"
     ]
    }
   ],
   "source": [
    "img_original = cv2.resize(img_original, (120,120))\n",
    "img_ruido1 = cv2.resize(img_ruido1, (120,120))\n",
    "img_ruido2 = cv2.resize(img_ruido2, (120,120))\n",
    "\n",
    "print(\"Tamanho original: \", img_original.shape[:2])\n",
    "print(\"Tamanho ruido 1: \", img_ruido1.shape[:2])\n",
    "print(\"Tamanho ruido 2: \", img_ruido2.shape[:2])"
   ]
  },
  {
   "cell_type": "code",
   "execution_count": 4,
   "metadata": {},
   "outputs": [],
   "source": [
    "# transformando em escala de cinza\n",
    "img_original = cv2.cvtColor(img_original, cv2.COLOR_BGR2GRAY)\n",
    "img_ruido1 = cv2.cvtColor(img_ruido1, cv2.COLOR_BGR2GRAY)\n",
    "img_ruido2 =  cv2.cvtColor(img_ruido2, cv2.COLOR_BGR2GRAY)"
   ]
  },
  {
   "cell_type": "markdown",
   "metadata": {},
   "source": [
    "### Transformando em sinal"
   ]
  },
  {
   "cell_type": "code",
   "execution_count": 5,
   "metadata": {},
   "outputs": [],
   "source": [
    "sinal_original = np.array(img_original).reshape(120**2)\n",
    "sinal_ruido1 = np.array(img_ruido1).reshape(120**2)\n",
    "sinal_ruido2 = np.array(img_ruido2).reshape(120**2)"
   ]
  },
  {
   "cell_type": "markdown",
   "metadata": {},
   "source": [
    "## Implementação dos filtros e das métricas \n",
    "\n",
    "Abaixo, estão definidas as funções utilizadas para calcular os filtros Heat e Tikhonov, bem como as métricas de Erro Quadrático Médio (MSE) e Peak Signal-to-Noise Ratio (PSNR).\n",
    "\n",
    "Na ordem:\n",
    "\n",
    "* Heat\n",
    "* Tikhonov\n",
    "* MSE\n",
    "* PSNR"
   ]
  },
  {
   "cell_type": "code",
   "execution_count": 6,
   "metadata": {},
   "outputs": [],
   "source": [
    "def heat(lam,tau=1):\n",
    "    '''Calcula a função do filtro a partir de um vetor de autovalores.\n",
    "    \n",
    "    Parâmetros:\n",
    "    - lambda (array) - vetor de autovalores\n",
    "    \n",
    "    Return:\n",
    "    - H (array) - matriz diagonal cujos calores da diagonal são os h(lambda_i) e\n",
    "    h() é a função que define o filtro\n",
    "    '''\n",
    "    # primeiro definir a função \n",
    "    def h(x,tau = tau):\n",
    "        return np.exp(- tau * x)\n",
    "    \n",
    "    h_lambda = h(lam,tau)\n",
    "    H = np.diag(h_lambda)\n",
    "\n",
    "    return H\n"
   ]
  },
  {
   "cell_type": "code",
   "execution_count": 7,
   "metadata": {},
   "outputs": [],
   "source": [
    "def tikhonov(lam,g=1):\n",
    "    '''Calcula a matriz H da regularização à tikhonov a partir de\n",
    "    um vetor de autovalores.\n",
    "    \n",
    "    Parâmetros:\n",
    "    - lam (array): vetor de autovalores\n",
    "    - g (float): default = 1, valor do parâmetro lambda \n",
    "    \n",
    "    Returns:\n",
    "    - H (array): matriz diagonal cujas entradas são a função h() \n",
    "    calculada sobre os autovalores correspondentes.'''\n",
    "    \n",
    "    def h(x,g=g):\n",
    "        return 1/(1+ g*x)\n",
    "    \n",
    "    h_lambda = h(lam)\n",
    "    H = np.diag(h_lambda)\n",
    "\n",
    "    return H "
   ]
  },
  {
   "cell_type": "code",
   "execution_count": 8,
   "metadata": {},
   "outputs": [],
   "source": [
    "def MSE(original,filtrado):\n",
    "    '''Calcula o erro quadrático médio da filtração escolhida.\n",
    "    \n",
    "    Parâmetros:\n",
    "    - original (array): sinal original, sem ruídos, para usar como\n",
    "    referência no MSE\n",
    "    - filtrado (array): sinal obtido com a filtração\n",
    "    \n",
    "    Returns:\n",
    "    - mse (float): erro quadrático médio'''\n",
    "\n",
    "    soma = sum((original - filtrado)**2) # soma dos quadrados \n",
    "    n = len(filtrado)\n",
    "    mse = soma/n\n",
    "    return mse"
   ]
  },
  {
   "cell_type": "code",
   "execution_count": 9,
   "metadata": {},
   "outputs": [],
   "source": [
    "def PSNR(original,filtrado,img=True):\n",
    "    '''Calcula o Peak signal-to-noise ratio com relação a alguma fltração\n",
    "    escolhida. O PSNR é a variação relativa do máximo valor possível\n",
    "    do sinal em relação ao erro quadrático médio (norma L2 do erro),\n",
    "    em escala logarítmica.\n",
    "    \n",
    "    Parâmetros:\n",
    "    - original (array): sinal original\n",
    "    - filtrado (array): sinal filtrado de acordo com a filtração de \n",
    "    escolha\n",
    "    \n",
    "    Returns: \n",
    "    - res (float): medida do PSNR'''\n",
    "    mse = MSE(original,filtrado) # precisa dessa métrica\n",
    "    if img:\n",
    "        max_f = 255\n",
    "    else: \n",
    "        # definindo uma métrica alternativa para meu toy problem\n",
    "        max_f = max(filtrado)\n",
    "    res = 20*np.log10(max_f) - 10*np.log10(mse)\n",
    "    return res"
   ]
  },
  {
   "cell_type": "markdown",
   "metadata": {},
   "source": [
    "## Grafo Clássico\n",
    "\n",
    "Nessa seção, vamos fazer todas as contas para os filtros implementados aqui com o grafo construído de maneira clássica, isto é, conectando os pixels adjascentes.\n",
    "\n",
    "Além disso, vamos dividir os resultados entre os filtros Heat e Tikhonov. "
   ]
  },
  {
   "cell_type": "code",
   "execution_count": 10,
   "metadata": {},
   "outputs": [],
   "source": [
    "# primeiro a identificação das bordas\n",
    "def bordas(img):\n",
    "    '''Função que recupera os índices de cada uma das bordas de um array (ou imagem).\n",
    "    \n",
    "    Parâmetros:\n",
    "    - img (array): matriz mxn que representa a imagem (ou qualquer outra coisa)\n",
    "    \n",
    "    Return:\n",
    "    - left (list): índices da borda esquerda \n",
    "    - right (list): índices da borda direita\n",
    "    - up (list): índices da borda superior\n",
    "    - down (list): índices da borda inferior'''\n",
    "    # matriz m por n \n",
    "    m, n = img.shape \n",
    "\n",
    "    left = [i*m for i in range(n)]\n",
    "    right = [i*m - 1 for i in range(1,n+1)]\n",
    "    up = [i for i in range(m)]\n",
    "    down = [n*(m-1) + i for i in range(m)]\n",
    "\n",
    "    return left, right, up, down"
   ]
  },
  {
   "cell_type": "code",
   "execution_count": 11,
   "metadata": {},
   "outputs": [],
   "source": [
    "def grafo_img_simples(img, adj = False, plot=True):\n",
    "    '''Função que retorna uma instância do objeto graph do pygsp que\n",
    "    representa uma imagem. Aqui o grafo é o mais simples possível, considerando\n",
    "    adjascentes os pixels vizinhos.\n",
    "       \n",
    "    Parâmetros:\n",
    "     - img (array): imagem a partir da qual construiremos o grafo \n",
    "     - adj (Bool): default = False, indica se retornamos ou não a matriz de adjascência\n",
    "      do grafo criado \n",
    "     - plot (Bool): default = True, faz o desenho do grafo\n",
    "    '''\n",
    "    # primeira coisa é pegar as bordas \n",
    "    left, right, up, down = bordas(img)\n",
    "    m,n = img.shape\n",
    "    #W = np.zeros((m*n,m*n))\n",
    "    W = []\n",
    "\n",
    "    for i in range(m*n):\n",
    "        linha = np.zeros(m*n,dtype=np.int16)\n",
    "\n",
    "        if i == 0: # canto superior esquerdo \n",
    "            linha[1] = 1 # a direita\n",
    "            linha[m] = 1 # abaixo\n",
    "            linha[m+1] = 1 # diagonal p baixo\n",
    "\n",
    "        elif i == m-1: # canto superior direito\n",
    "            linha[i-1] = 1 # a esquerda \n",
    "            linha[i+m] = 1 # abaixo \n",
    "            linha[i+m-1] = 1 # diagonal p baixo\n",
    "\n",
    "        elif i == n*(m-1): # canto inferior esquerdo \n",
    "            linha[i+1] = 1 # a direita\n",
    "            linha[i-m] = 1 # acima\n",
    "            linha[i-m+1] = 1\n",
    "\n",
    "        elif i == n*m -1: # canto inferior direito\n",
    "            linha[i-1] = 1 # a esquerda\n",
    "            linha[i-m] = 1 # acima\n",
    "            linha[i-m-1] = 1\n",
    "\n",
    "        elif i in up:\n",
    "           linha[i-1] = 1\n",
    "           linha[i+1] = 1\n",
    "           linha[i+m] = 1\n",
    "           linha[i+m-1] = 1\n",
    "           linha[i+m+1] = 1\n",
    "            \n",
    "        elif i in left:\n",
    "            linha[i+1] = 1\n",
    "            linha[i-m] = 1\n",
    "            linha[i+m] = 1\n",
    "            linha[i-m+1] = 1\n",
    "            linha[i+m+1] = 1\n",
    "        \n",
    "        elif i in right:\n",
    "            linha[i-m] = 1\n",
    "            linha[i+m] = 1\n",
    "            linha[i-1] = 1\n",
    "            linha[i-m-1] =1\n",
    "            linha[i+m-1] = 1\n",
    "\n",
    "        elif i in down:\n",
    "            linha[i-1] - 1\n",
    "            linha[i+1] = 1\n",
    "            linha[i-m] = 1\n",
    "            linha[i-m+1] = 1\n",
    "            linha[i-m-1] = 1\n",
    "\n",
    "        else:\n",
    "            linha[i-m-1] = 1\n",
    "            linha[i-m] = 1\n",
    "            linha[i-m+1] = 1\n",
    "            linha[i-1] = 1\n",
    "            linha[i+1] = 1\n",
    "            linha[i+m-1] = 1\n",
    "            linha[i+m] = 1\n",
    "            linha[i+m+1] = 1\n",
    "        \n",
    "        W.append(linha)\n",
    "    W = sp.csc_matrix(np.array(W, dtype=np.int16))\n",
    "    #assert W.shape == (m*n,m*n)\n",
    "    \n",
    "    # criando o grafo \n",
    "    G = graphs.Graph(W)\n",
    "    \n",
    "    if adj:\n",
    "        return G, W\n",
    "    elif plot:\n",
    "        G.set_coordinates()\n",
    "        G.plot(title=f\"Grafo trivial para imagem {m}x{n}\")\n",
    "        return G\n",
    "    else:\n",
    "        return G"
   ]
  },
  {
   "cell_type": "markdown",
   "metadata": {},
   "source": [
    "Note que essa construção independe do sinal, então vamos fazê-la a partir da imagem original e computar somente os filtros a partir das imagens com ruido."
   ]
  },
  {
   "cell_type": "code",
   "execution_count": 12,
   "metadata": {},
   "outputs": [],
   "source": [
    "G_classico = grafo_img_simples(img_original, False, False)"
   ]
  },
  {
   "cell_type": "markdown",
   "metadata": {},
   "source": [
    "### Heat"
   ]
  },
  {
   "cell_type": "code",
   "execution_count": 13,
   "metadata": {},
   "outputs": [
    {
     "name": "stderr",
     "output_type": "stream",
     "text": [
      "2024-05-15 20:38:51,260:[WARNING](pygsp.graphs.graph.compute_fourier_basis): Computing the full eigendecomposition of a large matrix (14400 x 14400) may take some time.\n"
     ]
    }
   ],
   "source": [
    "# calculando autofunções\n",
    "G_classico.compute_fourier_basis()"
   ]
  },
  {
   "cell_type": "code",
   "execution_count": 14,
   "metadata": {},
   "outputs": [],
   "source": [
    "U = G_classico.U # autofunções\n",
    "lam = G_classico.e # autovalores"
   ]
  },
  {
   "cell_type": "code",
   "execution_count": 15,
   "metadata": {},
   "outputs": [],
   "source": [
    "# calculando a filtração \n",
    "tau = [1/4, 1/2, 1, 2, 4]\n",
    "\n",
    "heat_ruido1 = []\n",
    "heat_ruido2 = []\n",
    "for t in tau:\n",
    "    r1 = U @ heat(lam, tau = t) @ U.T @ sinal_ruido1\n",
    "    r2 = U @ heat(lam, tau = t) @ U.T @ sinal_ruido2\n",
    "    heat_ruido1.append(r1)\n",
    "    heat_ruido2.append(r2)"
   ]
  },
  {
   "cell_type": "markdown",
   "metadata": {},
   "source": [
    "### Tikhonov"
   ]
  },
  {
   "cell_type": "code",
   "execution_count": null,
   "metadata": {},
   "outputs": [],
   "source": []
  },
  {
   "cell_type": "markdown",
   "metadata": {},
   "source": [
    "## Grafo com Pesos\n",
    "\n",
    "Nessa seção, introduzimos um novo método para construção dos grafos, em que é aplicado um peso Gaussiano quando dois vértices são $\\kappa$-próximos, ou seja, \n",
    "\n",
    "$$a_{ij} = e^{- d^2 / 2 \\sigma^2}, \\text{se} |d(i,j)| < \\kappa$$\n",
    "\n",
    "A distância aqui utilizada é a diferença entre as cores de cada pixel em grayscale."
   ]
  },
  {
   "cell_type": "code",
   "execution_count": 35,
   "metadata": {},
   "outputs": [],
   "source": [
    "def grafo_peso_grayscale(img,th,kap,adj=False,plot=True):\n",
    "    '''Função que constrói o grafo para uma imagem em escala de cinzas\n",
    "    a partir do gradiente de cor. Os pesos atribuidos a cada vértice serão\n",
    "    uma gaussiana de variância theta^2 avaliada em em x = gray(i) - gray(j), \n",
    "     onde gray() é o valor na escala de cinzas de cada pixel.\n",
    "      \n",
    "    Parâmetros:\n",
    "     - img (array): matrix representando a imagem, suas entradas correspondem ao valor\n",
    "     de cada vértice na escala de cinza\n",
    "     - th (float): desvio padrão da Gaussiana\n",
    "     - kap (float): threshold de conexão dos vértices'''\n",
    "    \n",
    "    m,n = img.shape\n",
    "    N = m*n\n",
    "    W = np.zeros((N,N), dtype=np.int8)\n",
    "    #W = sp.coo_matrix(shape=(N,N),dtype=np.float16)\n",
    "    for i in range(N):\n",
    "        for j in range(N):\n",
    "            # já que estou iterando num vetor dos vértices, preciso recuperar o índice\n",
    "            ii = i % n \n",
    "            ij = i % m \n",
    "\n",
    "            ji = j % n \n",
    "            jj = j % m\n",
    "            # diferença de grayscale\n",
    "            dist = img[ij,ii] - img[jj,ji]\n",
    "            if abs(dist) <= kap:\n",
    "                W[i,j] = np.exp(- dist*dist / (2*th*th), dtype=np.float32)\n",
    "    \n",
    "    G = graphs.Graph(W)\n",
    "    if adj:\n",
    "        return G, W\n",
    "    elif plot:\n",
    "        G.set_coordinates()\n",
    "        G.plot(title=f\"Grafo com pesos $\\kappa =$ {kap}\")\n",
    "        return G\n",
    "    else:\n",
    "        return G\n",
    "    "
   ]
  },
  {
   "cell_type": "markdown",
   "metadata": {},
   "source": [
    "Diferentemente do primeiro grafo, essa construção depende do valor do sinal para calcular as distâncias entre os vértices, então temos um grafo para cada ruído diferente."
   ]
  },
  {
   "cell_type": "code",
   "execution_count": 36,
   "metadata": {},
   "outputs": [
    {
     "name": "stderr",
     "output_type": "stream",
     "text": [
      "C:\\Users\\mevel\\AppData\\Local\\Temp\\ipykernel_11532\\2024869093.py:28: RuntimeWarning: overflow encountered in scalar negative\n",
      "  W[i,j] = np.exp(- dist*dist / (2*th*th))\n",
      "C:\\Users\\mevel\\AppData\\Local\\Temp\\ipykernel_11532\\2024869093.py:28: RuntimeWarning: overflow encountered in scalar multiply\n",
      "  W[i,j] = np.exp(- dist*dist / (2*th*th))\n",
      "C:\\Users\\mevel\\AppData\\Local\\Temp\\ipykernel_11532\\2024869093.py:26: RuntimeWarning: overflow encountered in scalar subtract\n",
      "  dist = img[ij,ii] - img[jj,ji]\n"
     ]
    },
    {
     "ename": "KeyboardInterrupt",
     "evalue": "",
     "output_type": "error",
     "traceback": [
      "\u001b[1;31m---------------------------------------------------------------------------\u001b[0m",
      "\u001b[1;31mKeyboardInterrupt\u001b[0m                         Traceback (most recent call last)",
      "Cell \u001b[1;32mIn[36], line 1\u001b[0m\n\u001b[1;32m----> 1\u001b[0m G_ruido1_peso \u001b[38;5;241m=\u001b[39m \u001b[43mgrafo_peso_grayscale\u001b[49m\u001b[43m(\u001b[49m\u001b[43mimg_ruido1\u001b[49m\u001b[43m,\u001b[49m\u001b[43m \u001b[49m\u001b[38;5;241;43m1\u001b[39;49m\u001b[43m,\u001b[49m\u001b[43m \u001b[49m\u001b[38;5;241;43m5\u001b[39;49m\u001b[43m)\u001b[49m\n\u001b[0;32m      2\u001b[0m G_ruido2_peso \u001b[38;5;241m=\u001b[39m grafo_peso_grayscale(img_ruido2, \u001b[38;5;241m1\u001b[39m, \u001b[38;5;241m5\u001b[39m)\n",
      "Cell \u001b[1;32mIn[35], line 27\u001b[0m, in \u001b[0;36mgrafo_peso_grayscale\u001b[1;34m(img, th, kap, adj, plot)\u001b[0m\n\u001b[0;32m     25\u001b[0m         \u001b[38;5;66;03m# diferença de grayscale\u001b[39;00m\n\u001b[0;32m     26\u001b[0m         dist \u001b[38;5;241m=\u001b[39m img[ij,ii] \u001b[38;5;241m-\u001b[39m img[jj,ji]\n\u001b[1;32m---> 27\u001b[0m         \u001b[38;5;28;01mif\u001b[39;00m \u001b[38;5;28mabs\u001b[39m(dist) \u001b[38;5;241m<\u001b[39m\u001b[38;5;241m=\u001b[39m kap:\n\u001b[0;32m     28\u001b[0m             W[i,j] \u001b[38;5;241m=\u001b[39m np\u001b[38;5;241m.\u001b[39mexp(\u001b[38;5;241m-\u001b[39m dist\u001b[38;5;241m*\u001b[39mdist \u001b[38;5;241m/\u001b[39m (\u001b[38;5;241m2\u001b[39m\u001b[38;5;241m*\u001b[39mth\u001b[38;5;241m*\u001b[39mth))\n\u001b[0;32m     30\u001b[0m G \u001b[38;5;241m=\u001b[39m graphs\u001b[38;5;241m.\u001b[39mGraph(W)\n",
      "\u001b[1;31mKeyboardInterrupt\u001b[0m: "
     ]
    }
   ],
   "source": [
    "G_ruido1_peso = grafo_peso_grayscale(img_ruido1, 1, 5)\n",
    "G_ruido2_peso = grafo_peso_grayscale(img_ruido2, 1, 5)"
   ]
  },
  {
   "cell_type": "markdown",
   "metadata": {},
   "source": [
    "### Heat"
   ]
  },
  {
   "cell_type": "markdown",
   "metadata": {},
   "source": [
    "### Tikhonov"
   ]
  },
  {
   "cell_type": "markdown",
   "metadata": {},
   "source": [
    "## Comparação com o PyGSP"
   ]
  },
  {
   "cell_type": "markdown",
   "metadata": {},
   "source": []
  }
 ],
 "metadata": {
  "kernelspec": {
   "display_name": "Python 3",
   "language": "python",
   "name": "python3"
  },
  "language_info": {
   "codemirror_mode": {
    "name": "ipython",
    "version": 3
   },
   "file_extension": ".py",
   "mimetype": "text/x-python",
   "name": "python",
   "nbconvert_exporter": "python",
   "pygments_lexer": "ipython3",
   "version": "3.11.9"
  }
 },
 "nbformat": 4,
 "nbformat_minor": 2
}
