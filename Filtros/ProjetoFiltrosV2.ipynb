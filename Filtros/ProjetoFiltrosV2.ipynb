{
 "cells": [
  {
   "cell_type": "markdown",
   "metadata": {},
   "source": [
    "# Projeto Filtros AdFG\n",
    "\n",
    "### Beatriz Evelbauer Simões \n",
    "\n",
    "Nesse projeto, visamos comparar diferentes tipos de filtros com relação a diferentes ruídos em uma mesma imagem.\n",
    "\n",
    "Os filtros propostos são o filtro do kernel da equação do calor e também o de regularização à Tikhonov, este sendo um caso particular de um filtro $ARMA(p,q)$.\n",
    "\n",
    "Eles são definidos por:\n",
    "\n",
    "$$\\text{heat} (\\lambda) = e^{- \\tau \\lambda}$$\n",
    "\n",
    "onde $\\tau$ é um parâmetro real a ser definido, e\n",
    "\n",
    "$$\\text{Tikhonov} (\\lambda) = \\frac{1}{1 + \\gamma \\lambda}$$\n",
    "\n",
    "onde $\\gamma$ é um parâmetro real a ser escolhido. \n",
    "\n",
    "Ambos os filtros tem implementação na biblioteca `PyGSP`, com a qual faremos a comparação de desempenho no final do trabalho."
   ]
  },
  {
   "cell_type": "markdown",
   "metadata": {},
   "source": [
    "## Imports"
   ]
  },
  {
   "cell_type": "code",
   "execution_count": 1,
   "metadata": {},
   "outputs": [
    {
     "name": "stdout",
     "output_type": "stream",
     "text": [
      "Defaulting to user installation because normal site-packages is not writeable\n",
      "Requirement already satisfied: opencv-python in c:\\users\\beatriz\\appdata\\roaming\\python\\python311\\site-packages (4.9.0.80)\n",
      "Requirement already satisfied: numpy>=1.21.2 in c:\\users\\beatriz\\appdata\\roaming\\python\\python311\\site-packages (from opencv-python) (1.26.4)\n",
      "Note: you may need to restart the kernel to use updated packages.\n"
     ]
    }
   ],
   "source": [
    "pip install opencv-python\n"
   ]
  },
  {
   "cell_type": "code",
   "execution_count": 1,
   "metadata": {},
   "outputs": [],
   "source": [
    "# bibliotecas \n",
    "import pandas as pd\n",
    "import numpy as np \n",
    "import matplotlib.pyplot as plt\n",
    "from pygsp import graphs, filters, plotting \n",
    "from PIL import Image, ImageFilter\n",
    "import scipy.sparse as sp\n",
    "import cv2 # para mudar o tamanho das fotos"
   ]
  },
  {
   "cell_type": "code",
   "execution_count": 2,
   "metadata": {},
   "outputs": [
    {
     "name": "stdout",
     "output_type": "stream",
     "text": [
      "Tamanho original:  (256, 256)\n",
      "Tamanho ruido 1:  (256, 256)\n",
      "Tamanho ruido 2:  (256, 256)\n"
     ]
    }
   ],
   "source": [
    "# abrindo imagens\n",
    "img_original = cv2.imread('cameraman_original.jpg')\n",
    "img_ruido1 = cv2.imread('cameraman_ruido.jpg')\n",
    "img_ruido2 = cv2.imread('cameraman_ruido2.jpg')\n",
    "\n",
    "print(\"Tamanho original: \", img_original.shape[:2])\n",
    "print(\"Tamanho ruido 1: \", img_ruido1.shape[:2])\n",
    "print(\"Tamanho ruido 2: \", img_ruido2.shape[:2])"
   ]
  },
  {
   "cell_type": "markdown",
   "metadata": {},
   "source": [
    "### Reduzindo as imagens"
   ]
  },
  {
   "cell_type": "code",
   "execution_count": 3,
   "metadata": {},
   "outputs": [
    {
     "name": "stdout",
     "output_type": "stream",
     "text": [
      "Tamanho original:  (120, 120)\n",
      "Tamanho ruido 1:  (120, 120)\n",
      "Tamanho ruido 2:  (120, 120)\n"
     ]
    }
   ],
   "source": [
    "img_original = cv2.resize(img_original, (120,120))\n",
    "img_ruido1 = cv2.resize(img_ruido1, (120,120))\n",
    "img_ruido2 = cv2.resize(img_ruido2, (120,120))\n",
    "\n",
    "print(\"Tamanho original: \", img_original.shape[:2])\n",
    "print(\"Tamanho ruido 1: \", img_ruido1.shape[:2])\n",
    "print(\"Tamanho ruido 2: \", img_ruido2.shape[:2])"
   ]
  },
  {
   "cell_type": "code",
   "execution_count": 4,
   "metadata": {},
   "outputs": [],
   "source": [
    "# transformando em escala de cinza\n",
    "img_original = cv2.cvtColor(img_original, cv2.COLOR_BGR2GRAY)\n",
    "img_ruido1 = cv2.cvtColor(img_ruido1, cv2.COLOR_BGR2GRAY)\n",
    "img_ruido2 =  cv2.cvtColor(img_ruido2, cv2.COLOR_BGR2GRAY)"
   ]
  },
  {
   "cell_type": "code",
   "execution_count": 5,
   "metadata": {},
   "outputs": [],
   "source": [
    "plt.imsave('cameraman_original_reduzido.png',Image.fromarray(img_original,'L'),cmap='gray')"
   ]
  },
  {
   "cell_type": "markdown",
   "metadata": {},
   "source": [
    "### Transformando em sinal"
   ]
  },
  {
   "cell_type": "code",
   "execution_count": 6,
   "metadata": {},
   "outputs": [],
   "source": [
    "sinal_original = np.array(img_original).reshape(120**2)\n",
    "sinal_ruido1 = np.array(img_ruido1).reshape(120**2)\n",
    "sinal_ruido2 = np.array(img_ruido2).reshape(120**2)"
   ]
  },
  {
   "cell_type": "markdown",
   "metadata": {},
   "source": [
    "## Implementação dos filtros e das métricas \n",
    "\n",
    "Abaixo, estão definidas as funções utilizadas para calcular os filtros Heat e Tikhonov, bem como as métricas de Erro Quadrático Médio (MSE) e Peak Signal-to-Noise Ratio (PSNR).\n",
    "\n",
    "Na ordem:\n",
    "\n",
    "* Heat\n",
    "* Tikhonov\n",
    "* MSE\n",
    "* PSNR"
   ]
  },
  {
   "cell_type": "code",
   "execution_count": 7,
   "metadata": {},
   "outputs": [],
   "source": [
    "def heat(lam,tau=1):\n",
    "    '''Calcula a função do filtro a partir de um vetor de autovalores.\n",
    "    \n",
    "    Parâmetros:\n",
    "    - lambda (array) - vetor de autovalores\n",
    "    \n",
    "    Return:\n",
    "    - H (array) - matriz diagonal cujos calores da diagonal são os h(lambda_i) e\n",
    "    h() é a função que define o filtro\n",
    "    '''  \n",
    "    \n",
    "    h_lambda = np.exp(-(tau * lam)) #h(lam,tau)\n",
    "    H = np.diag(h_lambda)\n",
    "\n",
    "    return H\n"
   ]
  },
  {
   "cell_type": "code",
   "execution_count": 8,
   "metadata": {},
   "outputs": [],
   "source": [
    "def tikhonov(lam,g=1):\n",
    "    '''Calcula a matriz H da regularização à tikhonov a partir de\n",
    "    um vetor de autovalores.\n",
    "    \n",
    "    Parâmetros:\n",
    "    - lam (array): vetor de autovalores\n",
    "    - g (float): default = 1, valor do parâmetro lambda \n",
    "    \n",
    "    Returns:\n",
    "    - H (array): matriz diagonal cujas entradas são a função h() \n",
    "    calculada sobre os autovalores correspondentes.'''\n",
    "    \n",
    "    h_lambda = 1/(1+ g*lam)\n",
    "    H = np.diag(h_lambda)\n",
    "\n",
    "    return H"
   ]
  },
  {
   "cell_type": "code",
   "execution_count": 9,
   "metadata": {},
   "outputs": [],
   "source": [
    "def MSE(original,filtrado):\n",
    "    '''Calcula o erro quadrático médio da filtração escolhida.\n",
    "    \n",
    "    Parâmetros:\n",
    "    - original (array): sinal original, sem ruídos, para usar como\n",
    "    referência no MSE\n",
    "    - filtrado (array): sinal obtido com a filtração\n",
    "    \n",
    "    Returns:\n",
    "    - mse (float): erro quadrático médio'''\n",
    "\n",
    "    soma = sum((original - filtrado)**2) # soma dos quadrados \n",
    "    n = len(filtrado)\n",
    "    mse = soma/n\n",
    "    return mse"
   ]
  },
  {
   "cell_type": "code",
   "execution_count": 10,
   "metadata": {},
   "outputs": [],
   "source": [
    "def PSNR(original,filtrado,img=True):\n",
    "    '''Calcula o Peak signal-to-noise ratio com relação a alguma fltração\n",
    "    escolhida. O PSNR é a variação relativa do máximo valor possível\n",
    "    do sinal em relação ao erro quadrático médio (norma L2 do erro),\n",
    "    em escala logarítmica.\n",
    "    \n",
    "    Parâmetros:\n",
    "    - original (array): sinal original\n",
    "    - filtrado (array): sinal filtrado de acordo com a filtração de \n",
    "    escolha\n",
    "    \n",
    "    Returns: \n",
    "    - res (float): medida do PSNR'''\n",
    "    mse = MSE(original,filtrado) # precisa dessa métrica\n",
    "    if img:\n",
    "        max_f = 255\n",
    "    else: \n",
    "        # definindo uma métrica alternativa para meu toy problem\n",
    "        max_f = max(filtrado)\n",
    "    res = 20*np.log10(max_f) - 10*np.log10(mse)\n",
    "    return res"
   ]
  },
  {
   "cell_type": "markdown",
   "metadata": {},
   "source": [
    "## Grafo Clássico\n",
    "\n",
    "Nessa seção, vamos fazer todas as contas para os filtros implementados aqui com o grafo construído de maneira clássica, isto é, conectando os pixels adjascentes.\n",
    "\n",
    "Além disso, vamos dividir os resultados entre os filtros Heat e Tikhonov. "
   ]
  },
  {
   "cell_type": "code",
   "execution_count": 11,
   "metadata": {},
   "outputs": [],
   "source": [
    "# primeiro a identificação das bordas\n",
    "def bordas(img):\n",
    "    '''Função que recupera os índices de cada uma das bordas de um array (ou imagem).\n",
    "    \n",
    "    Parâmetros:\n",
    "    - img (array): matriz mxn que representa a imagem (ou qualquer outra coisa)\n",
    "    \n",
    "    Return:\n",
    "    - left (list): índices da borda esquerda \n",
    "    - right (list): índices da borda direita\n",
    "    - up (list): índices da borda superior\n",
    "    - down (list): índices da borda inferior'''\n",
    "    # matriz m por n \n",
    "    m, n = img.shape \n",
    "\n",
    "    left = [i*m for i in range(n)]\n",
    "    right = [i*m - 1 for i in range(1,n+1)]\n",
    "    up = [i for i in range(m)]\n",
    "    down = [n*(m-1) + i for i in range(m)]\n",
    "\n",
    "    return left, right, up, down"
   ]
  },
  {
   "cell_type": "code",
   "execution_count": 12,
   "metadata": {},
   "outputs": [],
   "source": [
    "def grafo_img_simples(img, adj = False, plot=True):\n",
    "    '''Função que retorna uma instância do objeto graph do pygsp que\n",
    "    representa uma imagem. Aqui o grafo é o mais simples possível, considerando\n",
    "    adjascentes os pixels vizinhos.\n",
    "       \n",
    "    Parâmetros:\n",
    "     - img (array): imagem a partir da qual construiremos o grafo \n",
    "     - adj (Bool): default = False, indica se retornamos ou não a matriz de adjascência\n",
    "      do grafo criado \n",
    "     - plot (Bool): default = True, faz o desenho do grafo\n",
    "    '''\n",
    "    # primeira coisa é pegar as bordas \n",
    "    left, right, up, down = bordas(img)\n",
    "    m,n = img.shape\n",
    "    #W = np.zeros((m*n,m*n))\n",
    "    W = []\n",
    "\n",
    "    for i in range(m*n):\n",
    "        linha = np.zeros(m*n,dtype=np.int16)\n",
    "\n",
    "        if i == 0: # canto superior esquerdo \n",
    "            linha[1] = 1 # a direita\n",
    "            linha[m] = 1 # abaixo\n",
    "            linha[m+1] = 1 # diagonal p baixo\n",
    "\n",
    "        elif i == m-1: # canto superior direito\n",
    "            linha[i-1] = 1 # a esquerda \n",
    "            linha[i+m] = 1 # abaixo \n",
    "            linha[i+m-1] = 1 # diagonal p baixo\n",
    "\n",
    "        elif i == n*(m-1): # canto inferior esquerdo \n",
    "            linha[i+1] = 1 # a direita\n",
    "            linha[i-m] = 1 # acima\n",
    "            linha[i-m+1] = 1\n",
    "\n",
    "        elif i == n*m -1: # canto inferior direito\n",
    "            linha[i-1] = 1 # a esquerda\n",
    "            linha[i-m] = 1 # acima\n",
    "            linha[i-m-1] = 1\n",
    "\n",
    "        elif i in up:\n",
    "           linha[i-1] = 1\n",
    "           linha[i+1] = 1\n",
    "           linha[i+m] = 1\n",
    "           linha[i+m-1] = 1\n",
    "           linha[i+m+1] = 1\n",
    "            \n",
    "        elif i in left:\n",
    "            linha[i+1] = 1\n",
    "            linha[i-m] = 1\n",
    "            linha[i+m] = 1\n",
    "            linha[i-m+1] = 1\n",
    "            linha[i+m+1] = 1\n",
    "        \n",
    "        elif i in right:\n",
    "            linha[i-m] = 1\n",
    "            linha[i+m] = 1\n",
    "            linha[i-1] = 1\n",
    "            linha[i-m-1] =1\n",
    "            linha[i+m-1] = 1\n",
    "\n",
    "        elif i in down:\n",
    "            linha[i-1] - 1\n",
    "            linha[i+1] = 1\n",
    "            linha[i-m] = 1\n",
    "            linha[i-m+1] = 1\n",
    "            linha[i-m-1] = 1\n",
    "\n",
    "        else:\n",
    "            linha[i-m-1] = 1\n",
    "            linha[i-m] = 1\n",
    "            linha[i-m+1] = 1\n",
    "            linha[i-1] = 1\n",
    "            linha[i+1] = 1\n",
    "            linha[i+m-1] = 1\n",
    "            linha[i+m] = 1\n",
    "            linha[i+m+1] = 1\n",
    "        \n",
    "        W.append(linha)\n",
    "    W = sp.csc_matrix(np.array(W, dtype=np.int16))\n",
    "    #assert W.shape == (m*n,m*n)\n",
    "    \n",
    "    # criando o grafo \n",
    "    G = graphs.Graph(W)\n",
    "    \n",
    "    if adj:\n",
    "        return G, W\n",
    "    elif plot:\n",
    "        G.set_coordinates()\n",
    "        G.plot(title=f\"Grafo trivial para imagem {m}x{n}\")\n",
    "        return G\n",
    "    else:\n",
    "        return G"
   ]
  },
  {
   "cell_type": "markdown",
   "metadata": {},
   "source": [
    "Note que essa construção independe do sinal, então vamos fazê-la a partir da imagem original e computar somente os filtros a partir das imagens com ruido."
   ]
  },
  {
   "cell_type": "code",
   "execution_count": 13,
   "metadata": {},
   "outputs": [],
   "source": [
    "G_classico = grafo_img_simples(img_original, False, False)"
   ]
  },
  {
   "cell_type": "markdown",
   "metadata": {},
   "source": [
    "### Heat\n",
    "\n",
    "Para a implementação desses filtros, após alguns testes, foram escolhidos os valores $\\tau = 0.01,0.1,0.25,0.5,1$."
   ]
  },
  {
   "cell_type": "code",
   "execution_count": 14,
   "metadata": {},
   "outputs": [
    {
     "name": "stderr",
     "output_type": "stream",
     "text": [
      "2024-06-05 11:07:32,995:[WARNING](pygsp.graphs.graph.compute_fourier_basis): Computing the full eigendecomposition of a large matrix (14400 x 14400) may take some time.\n"
     ]
    }
   ],
   "source": [
    "# calculando autofunções\n",
    "G_classico.compute_fourier_basis()"
   ]
  },
  {
   "cell_type": "code",
   "execution_count": 15,
   "metadata": {},
   "outputs": [],
   "source": [
    "U = G_classico.U # autofunções\n",
    "lam = G_classico.e # autovalores"
   ]
  },
  {
   "cell_type": "code",
   "execution_count": 16,
   "metadata": {},
   "outputs": [],
   "source": [
    "aux1 = U.T @ sinal_ruido1\n",
    "aux2 = U.T @ sinal_ruido2"
   ]
  },
  {
   "cell_type": "code",
   "execution_count": 17,
   "metadata": {},
   "outputs": [],
   "source": [
    "# calculando a filtração \n",
    "tau = [0.01,0.1,1/4, 1/2, 1]\n",
    "\n",
    "heat_ruido1 = [] # resultados da filtração \n",
    "heat_ruido2 = []\n",
    "\n",
    "# listas para guardar as métricas de erro\n",
    "mse_heat1, mse_heat2 = [], []\n",
    "psnr_heat1, psnr_heat2 = [], []\n",
    "for t in tau:\n",
    "    # calculando o sinal filtrado\n",
    "    r1 = U @ heat(lam, tau = t) @ aux1\n",
    "    r2 = U @ heat(lam, tau = t) @ aux2\n",
    "\n",
    "    # guardando resultados\n",
    "    heat_ruido1.append(np.round(r1))\n",
    "    heat_ruido2.append(np.round(r2))\n",
    "\n",
    "    # metricas de erro\n",
    "    mse_heat1.append(MSE(sinal_original,r1))\n",
    "    mse_heat2.append(MSE(sinal_original,r2))\n",
    "    psnr_heat1.append(PSNR(sinal_original,r1))\n",
    "    psnr_heat2.append(PSNR(sinal_original,r2))"
   ]
  },
  {
   "cell_type": "markdown",
   "metadata": {},
   "source": [
    "### Tikhonov\n",
    "\n",
    "Assim como no filtro anterior, aqui vamos utilizar valores diferentes para o parâmetro $\\gamma$. São eles $1$, $1.5$ e $0.8$, respectivamente identificados como Tikhonov 1,2 e 3."
   ]
  },
  {
   "cell_type": "code",
   "execution_count": 18,
   "metadata": {},
   "outputs": [],
   "source": [
    "tik_ruido1 = np.round(U @ tikhonov(lam, 1) @ aux1)\n",
    "tik_ruido2 = np.round(U @ tikhonov(lam) @ aux2)\n",
    "\n",
    "mse_tik1 = MSE(sinal_original, tik_ruido1) \n",
    "mse_tik2 = MSE(sinal_original, tik_ruido2)\n",
    "psnr_tik1 = PSNR(sinal_original, tik_ruido1)\n",
    "psnr_tik2 = PSNR(sinal_original, tik_ruido2)"
   ]
  },
  {
   "cell_type": "code",
   "execution_count": 19,
   "metadata": {},
   "outputs": [],
   "source": [
    "tik2_ruido1 = np.round(U @ tikhonov(lam, 1.5) @ aux1)\n",
    "tik2_ruido2 = np.round(U @ tikhonov(lam, 1.5) @ aux2)\n",
    "\n",
    "mse_tik21 = MSE(sinal_original, tik2_ruido1) \n",
    "mse_tik22 = MSE(sinal_original, tik2_ruido2)\n",
    "psnr_tik21 = PSNR(sinal_original, tik2_ruido1)\n",
    "psnr_tik22 = PSNR(sinal_original, tik2_ruido2)"
   ]
  },
  {
   "cell_type": "code",
   "execution_count": 20,
   "metadata": {},
   "outputs": [],
   "source": [
    "tik3_ruido1 = np.round(U @ tikhonov(lam, 0.8) @ aux1)\n",
    "tik3_ruido2 = np.round(U @ tikhonov(lam, 0.8) @ aux2)\n",
    "\n",
    "mse_tik31 = MSE(sinal_original, tik3_ruido1) \n",
    "mse_tik32 = MSE(sinal_original, tik3_ruido2)\n",
    "psnr_tik31 = PSNR(sinal_original, tik3_ruido1)\n",
    "psnr_tik32 = PSNR(sinal_original, tik3_ruido2)"
   ]
  },
  {
   "cell_type": "markdown",
   "metadata": {},
   "source": [
    "### Resultados \n",
    "\n",
    "Primeiro vamos comparar os resultados numéricos e depois a olho nu."
   ]
  },
  {
   "cell_type": "code",
   "execution_count": 21,
   "metadata": {},
   "outputs": [
    {
     "data": {
      "text/html": [
       "<div>\n",
       "<style scoped>\n",
       "    .dataframe tbody tr th:only-of-type {\n",
       "        vertical-align: middle;\n",
       "    }\n",
       "\n",
       "    .dataframe tbody tr th {\n",
       "        vertical-align: top;\n",
       "    }\n",
       "\n",
       "    .dataframe thead th {\n",
       "        text-align: right;\n",
       "    }\n",
       "</style>\n",
       "<table border=\"1\" class=\"dataframe\">\n",
       "  <thead>\n",
       "    <tr style=\"text-align: right;\">\n",
       "      <th></th>\n",
       "      <th>Método</th>\n",
       "      <th>MSE 1</th>\n",
       "      <th>MSE 2</th>\n",
       "      <th>PSNR 1</th>\n",
       "      <th>PSNR 2</th>\n",
       "    </tr>\n",
       "  </thead>\n",
       "  <tbody>\n",
       "    <tr>\n",
       "      <th>0</th>\n",
       "      <td>Heat (t = 0.01)</td>\n",
       "      <td>96.18204262706783</td>\n",
       "      <td>187.28948770700512</td>\n",
       "      <td>28.299863648795046</td>\n",
       "      <td>25.405669591411673</td>\n",
       "    </tr>\n",
       "    <tr>\n",
       "      <th>1</th>\n",
       "      <td>Heat (t = 0.1)</td>\n",
       "      <td>187.47288627175737</td>\n",
       "      <td>243.0398680799296</td>\n",
       "      <td>25.401418951723727</td>\n",
       "      <td>24.274028400806596</td>\n",
       "    </tr>\n",
       "    <tr>\n",
       "      <th>2</th>\n",
       "      <td>Heat (t = 0.25)</td>\n",
       "      <td>385.6933539509512</td>\n",
       "      <td>418.70953644868547</td>\n",
       "      <td>22.268382054535046</td>\n",
       "      <td>21.911675084555995</td>\n",
       "    </tr>\n",
       "    <tr>\n",
       "      <th>3</th>\n",
       "      <td>Heat (t = 0.5)</td>\n",
       "      <td>574.6065954549341</td>\n",
       "      <td>593.8760083265701</td>\n",
       "      <td>20.537097542602854</td>\n",
       "      <td>20.3938458006276</td>\n",
       "    </tr>\n",
       "    <tr>\n",
       "      <th>4</th>\n",
       "      <td>Heat (t = 1)</td>\n",
       "      <td>778.9973438827305</td>\n",
       "      <td>788.7803466441925</td>\n",
       "      <td>19.215443839900058</td>\n",
       "      <td>19.161242797389022</td>\n",
       "    </tr>\n",
       "    <tr>\n",
       "      <th>5</th>\n",
       "      <td>Tikhonov 1</td>\n",
       "      <td>569.3659722222222</td>\n",
       "      <td>587.9668055555555</td>\n",
       "      <td>20.576888526016038</td>\n",
       "      <td>20.437275527696396</td>\n",
       "    </tr>\n",
       "    <tr>\n",
       "      <th>6</th>\n",
       "      <td>Tikhonov 2</td>\n",
       "      <td>680.7258333333333</td>\n",
       "      <td>694.7250694444444</td>\n",
       "      <td>19.801081286102647</td>\n",
       "      <td>19.712673900129246</td>\n",
       "    </tr>\n",
       "    <tr>\n",
       "      <th>7</th>\n",
       "      <td>Tikhonov 3</td>\n",
       "      <td>511.99902777777777</td>\n",
       "      <td>533.7415972222223</td>\n",
       "      <td>21.038112245622887</td>\n",
       "      <td>20.857493099472364</td>\n",
       "    </tr>\n",
       "  </tbody>\n",
       "</table>\n",
       "</div>"
      ],
      "text/plain": [
       "            Método               MSE 1               MSE 2  \\\n",
       "0  Heat (t = 0.01)   96.18204262706783  187.28948770700512   \n",
       "1   Heat (t = 0.1)  187.47288627175737   243.0398680799296   \n",
       "2  Heat (t = 0.25)   385.6933539509512  418.70953644868547   \n",
       "3   Heat (t = 0.5)   574.6065954549341   593.8760083265701   \n",
       "4     Heat (t = 1)   778.9973438827305   788.7803466441925   \n",
       "5       Tikhonov 1   569.3659722222222   587.9668055555555   \n",
       "6       Tikhonov 2   680.7258333333333   694.7250694444444   \n",
       "7       Tikhonov 3  511.99902777777777   533.7415972222223   \n",
       "\n",
       "               PSNR 1              PSNR 2  \n",
       "0  28.299863648795046  25.405669591411673  \n",
       "1  25.401418951723727  24.274028400806596  \n",
       "2  22.268382054535046  21.911675084555995  \n",
       "3  20.537097542602854    20.3938458006276  \n",
       "4  19.215443839900058  19.161242797389022  \n",
       "5  20.576888526016038  20.437275527696396  \n",
       "6  19.801081286102647  19.712673900129246  \n",
       "7  21.038112245622887  20.857493099472364  "
      ]
     },
     "execution_count": 21,
     "metadata": {},
     "output_type": "execute_result"
    }
   ],
   "source": [
    "labels = [f'Heat (t = {ts})' for ts in tau] + [\"Tikhonov 1\",\"Tikhonov 2\",\"Tikhonov 3\"]\n",
    "mse1 = mse_heat1 + [mse_tik1, mse_tik21, mse_tik31]\n",
    "psnr1 = psnr_heat1 + [psnr_tik1, psnr_tik21, psnr_tik31]\n",
    "mse2 = mse_heat2 + [mse_tik2, mse_tik22, mse_tik32]\n",
    "psnr2 = psnr_heat2 + [psnr_tik2, psnr_tik22, psnr_tik32]\n",
    "resultados = pd.DataFrame(data = np.array([labels,\n",
    "                                            mse1,\n",
    "                                            mse2,\n",
    "                                            psnr1,\n",
    "                                            psnr2]).T,\n",
    "                            columns = ['Método','MSE 1', 'MSE 2', 'PSNR 1','PSNR 2'])\n",
    "resultados"
   ]
  },
  {
   "cell_type": "markdown",
   "metadata": {},
   "source": [
    "Vemos que os melhores resultados para o MSE são atingidos conforme tomammos valores menores para $\\tau$ no filtro heat - nesse caso 0.01 -, enquanto que os menores valores para o PSNR são do filtro tikhonov e heat com valores de parâmetro maiores (1 e 1.5 respectivamente). Isso possivelmente se deve ao fato destes dois últimos serem mais homogenizadores que os demais valores testados.\n",
    "\n",
    "Além disso, note que o erro quadrático médio dos filtros heat é bem maior para tratar o ruído 2."
   ]
  },
  {
   "cell_type": "code",
   "execution_count": 22,
   "metadata": {},
   "outputs": [],
   "source": [
    "# salvando as imagens \n",
    "# ruido 1\n",
    "plt.imsave('cameraman_CR1H1.png', heat_ruido1[0].reshape((120,120)), cmap='gray')\n",
    "plt.imsave('cameraman_CR1H2.png', heat_ruido1[1].reshape((120,120)), cmap='gray')\n",
    "plt.imsave('cameraman_CR1H3.png', heat_ruido1[2].reshape((120,120)), cmap='gray')\n",
    "plt.imsave('cameraman_CR1H4.png', heat_ruido1[3].reshape((120,120)), cmap='gray')\n",
    "plt.imsave('cameraman_CR1H5.png', heat_ruido1[4].reshape((120,120)), cmap='gray')\n",
    "\n",
    "# tikhonov\n",
    "plt.imsave('cameraman_CR1TIK.png', tik_ruido1.reshape((120,120)), cmap='gray')\n",
    "plt.imsave('cameraman_CR1TIK2.png', tik2_ruido1.reshape((120,120)), cmap='gray')\n",
    "plt.imsave('cameraman_CR1TIK3.png', tik3_ruido1.reshape((120,120)), cmap='gray')\n",
    "\n",
    "# ruido 2\n",
    "plt.imsave('cameraman_CR2H1.png', heat_ruido2[0].reshape((120,120)), cmap='gray')\n",
    "plt.imsave('cameraman_CR2H2.png', heat_ruido2[1].reshape((120,120)), cmap='gray')\n",
    "plt.imsave('cameraman_CR2H3.png', heat_ruido2[2].reshape((120,120)), cmap='gray')\n",
    "plt.imsave('cameraman_CR2H4.png', heat_ruido2[3].reshape((120,120)), cmap='gray')\n",
    "plt.imsave('cameraman_CR2H5.png', heat_ruido2[4].reshape((120,120)), cmap='gray')\n",
    "\n",
    "# tikhonov\n",
    "plt.imsave('cameraman_CR2TIK.png', tik_ruido2.reshape((120,120)), cmap='gray')\n",
    "plt.imsave('cameraman_CR2TIK2.png', tik2_ruido2.reshape((120,120)), cmap='gray')\n",
    "plt.imsave('cameraman_CR2TIK3.png', tik3_ruido2.reshape((120,120)), cmap='gray')"
   ]
  },
  {
   "cell_type": "markdown",
   "metadata": {},
   "source": [
    "#### Ruido 1\n",
    "Original|Heat 1|Heat 2|Heat 3|Heat 4|Heat 5|Tikhonov|Tikhonov 2|Tikhonov 3\n",
    ":---:|:---:|:---:|:---:|:---:|:---:|:---:|:---:|:---:\n",
    "![cameraman_original_reduzido.png](cameraman_original_reduzido.png)| ![cameraman_CR1H1.png](Resultados2/cameraman_CR1H1.png)| ![cameraman_CR1H2.png](Resultados2/cameraman_CR1H2.png)| ![cameraman_CR1H3.png](Resultados2/cameraman_CR1H3.png)| ![cameraman_CR1H4.png](Resultados2/cameraman_CR1H4.png)| ![cameraman_CR1H5.png](Resultados2/cameraman_CR1H5.png)| ![cameraman_CR1TIK.png](Resultados2/cameraman_CR1TIK.png)| ![cameraman_CR1TIK2.png](Resultados2/cameraman_CR1TIK2.png)| ![cameraman_CR1TIK3.png](Resultados2/cameraman_CR1TIK3.png)"
   ]
  },
  {
   "cell_type": "markdown",
   "metadata": {},
   "source": [
    "#### Ruido 2\n",
    "Original|Heat 1|Heat 2|Heat 3|Heat 4|Heat 5|Tikhonov|Tikhonov 2|Tikhonov 3\n",
    ":---:|:---:|:---:|:---:|:---:|:---:|:---:|:---:|:---:\n",
    "![cameraman_original_reduzido.png](cameraman_original_reduzido.png)| ![cameraman_CR2H1.png](Resultados2/cameraman_CR2H1.png)| ![cameraman_CR2H2.png](Resultados2/cameraman_CR2H2.png)| ![cameraman_CR2H3.png](Resultados2/cameraman_CR2H3.png)| ![cameraman_CR2H4.png](Resultados2/cameraman_CR2H4.png)| ![cameraman_CR2H5.png](Resultados2/cameraman_CR2H5.png)| ![cameraman_CR2TIK.png](Resultados2/cameraman_CR2TIK.png)| ![cameraman_CR2TIK.png](Resultados2/cameraman_CR2TIK2.png)| ![cameraman_CR2TIK.png](Resultados2/cameraman_CR2TIK3.png)"
   ]
  },
  {
   "cell_type": "markdown",
   "metadata": {},
   "source": [
    "## Grafo com Pesos\n",
    "\n",
    "Nessa seção, introduzimos um novo método para construção dos grafos, em que é aplicado um peso Gaussiano quando dois vértices são $\\kappa$-próximos, ou seja, \n",
    "\n",
    "$$a_{ij} = e^{- d^2 / 2 \\sigma^2}, \\text{se} |d(i,j)| < \\kappa$$\n",
    "\n",
    "A distância aqui utilizada é a diferença entre as cores de cada pixel em grayscale."
   ]
  },
  {
   "cell_type": "code",
   "execution_count": 31,
   "metadata": {},
   "outputs": [],
   "source": [
    "def grafo_peso_grayscale(img,th,kap,adj=False,plot=True):\n",
    "    '''Função que constrói o grafo para uma imagem em escala de cinzas\n",
    "    a partir do gradiente de cor. Os pesos atribuidos a cada vértice serão\n",
    "    uma gaussiana de variância theta^2 avaliada em em x = gray(i) - gray(j), \n",
    "     onde gray() é o valor na escala de cinzas de cada pixel.\n",
    "      \n",
    "    Parâmetros:\n",
    "     - img (array): matrix representando a imagem, suas entradas correspondem ao valor\n",
    "     de cada vértice na escala de cinza\n",
    "     - th (float): desvio padrão da Gaussiana\n",
    "     - kap (float): threshold de conexão dos vértices'''\n",
    "    \n",
    "    m,n = img.shape\n",
    "    img_array = np.array(img).reshape(n*m)\n",
    "    N = m*n\n",
    "    W = np.zeros((N,N))\n",
    "    #W = sp.coo_matrix(shape=(N,N),dtype=np.float16)\n",
    "    for i in range(N):\n",
    "        for j in range(N):\n",
    "            dist = abs(img_array[i] - img_array[j])\n",
    "            #print(img[ij,ii],img[jj,ji],dist)\n",
    "            if dist < kap and i!=j:\n",
    "                W[i,j] = np.exp(-((dist*dist)/(2*th*th)), dtype=np.float32)\n",
    "                #print(W[i,j])\n",
    "                assert W[i,j] <= 1 \n",
    "    \n",
    "    G = graphs.Graph(W)\n",
    "    if adj:\n",
    "        return G, W\n",
    "    elif plot:\n",
    "        G.set_coordinates()\n",
    "        G.plot(title=f\"Grafo com pesos $\\kappa =$ {kap}\")\n",
    "        return G\n",
    "    else:\n",
    "        return G\n",
    "    "
   ]
  },
  {
   "cell_type": "markdown",
   "metadata": {},
   "source": [
    "Diferentemente do primeiro grafo, essa construção depende do valor do sinal para calcular as distâncias entre os vértices, então temos um grafo para cada ruído diferente."
   ]
  },
  {
   "cell_type": "code",
   "execution_count": 32,
   "metadata": {},
   "outputs": [
    {
     "name": "stderr",
     "output_type": "stream",
     "text": [
      "C:\\Users\\Beatriz\\AppData\\Local\\Temp\\ipykernel_8364\\622753297.py:20: RuntimeWarning: overflow encountered in scalar subtract\n",
      "  dist = abs(img_array[i] - img_array[j])\n"
     ]
    }
   ],
   "source": [
    "G_ruido1_peso = grafo_peso_grayscale(img_ruido1, 1, 5, False,False)\n",
    "G_ruido2_peso = grafo_peso_grayscale(img_ruido2, 1, 5, False,False)"
   ]
  },
  {
   "cell_type": "code",
   "execution_count": 33,
   "metadata": {},
   "outputs": [
    {
     "name": "stderr",
     "output_type": "stream",
     "text": [
      "2024-06-04 19:42:38,647:[WARNING](pygsp.graphs.graph.compute_fourier_basis): Computing the full eigendecomposition of a large matrix (14400 x 14400) may take some time.\n"
     ]
    }
   ],
   "source": [
    "G_ruido1_peso.compute_fourier_basis()\n",
    "G_ruido1_peso.e[0] = 0 "
   ]
  },
  {
   "cell_type": "code",
   "execution_count": 34,
   "metadata": {},
   "outputs": [
    {
     "name": "stderr",
     "output_type": "stream",
     "text": [
      "2024-06-04 19:55:28,647:[WARNING](pygsp.graphs.graph.compute_fourier_basis): Computing the full eigendecomposition of a large matrix (14400 x 14400) may take some time.\n"
     ]
    }
   ],
   "source": [
    "G_ruido2_peso.compute_fourier_basis()\n",
    "G_ruido2_peso.e[0] = 0"
   ]
  },
  {
   "cell_type": "code",
   "execution_count": 35,
   "metadata": {},
   "outputs": [],
   "source": [
    "U_peso1 = G_ruido1_peso.U\n",
    "lam1 = G_ruido1_peso.e \n",
    "\n",
    "U_peso2 = G_ruido2_peso.U\n",
    "lam2 = G_ruido2_peso.e\n",
    "\n",
    "aux1 = U_peso1.T @ sinal_ruido1\n",
    "aux2 = U_peso2.T @ sinal_ruido2"
   ]
  },
  {
   "cell_type": "markdown",
   "metadata": {},
   "source": [
    "### Heat\n",
    "\n",
    "Para essa construção foram usados os valores $\\tau = 0.25,0.5,1,2,4$."
   ]
  },
  {
   "cell_type": "code",
   "execution_count": 36,
   "metadata": {},
   "outputs": [],
   "source": [
    "# calculando a filtração \n",
    "tau = [1/4, 1/2, 1, 2, 4]\n",
    "\n",
    "heat_peso1 = [] # resultados da filtração \n",
    "heat_peso2 = []\n",
    "\n",
    "# listas para guardar as métricas de erro\n",
    "mse_peso1, mse_peso2 = [], []\n",
    "psnr_peso1, psnr_peso2 = [], []\n",
    "for t in tau:\n",
    "    # calculando o sinal filtrado\n",
    "    r1 = U_peso1 @ heat(lam1, tau = t) @ aux1\n",
    "    r2 = U_peso2 @ heat(lam2, tau = t) @ aux2\n",
    "\n",
    "    # guardando resultados\n",
    "    heat_peso1.append(np.round(r1))\n",
    "    heat_peso2.append(np.round(r2))\n",
    "\n",
    "    # metricas de erro\n",
    "    mse_peso1.append(MSE(sinal_original,r1))\n",
    "    mse_peso2.append(MSE(sinal_original,r2))\n",
    "    psnr_peso1.append(PSNR(sinal_original,r1))\n",
    "    psnr_peso2.append(PSNR(sinal_original,r2))"
   ]
  },
  {
   "cell_type": "markdown",
   "metadata": {},
   "source": [
    "### Tikhonov\n",
    "\n",
    "Aqui, foram usados os valores $\\gamma = 0.1,1,10$ para a filtração. Porém, eles são nomeados respectivamente, Tikhonov 3, Tikhonov 1 e Tikhonov 2."
   ]
  },
  {
   "cell_type": "code",
   "execution_count": 37,
   "metadata": {},
   "outputs": [],
   "source": [
    "tik_peso1 = np.round(U_peso1 @ tikhonov(lam1, 1) @ aux1)\n",
    "tik_peso2 = np.round(U_peso2 @ tikhonov(lam2) @ aux2)\n",
    "\n",
    "mse_tik_peso1 = MSE(sinal_original, tik_peso1) \n",
    "mse_tik_peso2 = MSE(sinal_original, tik_peso2)\n",
    "psnr_tik_peso1 = PSNR(sinal_original, tik_peso1)\n",
    "psnr_tik_peso2 = PSNR(sinal_original, tik_peso2)"
   ]
  },
  {
   "cell_type": "code",
   "execution_count": 47,
   "metadata": {},
   "outputs": [],
   "source": [
    "tik2_peso1 = np.round(U_peso1 @ tikhonov(lam1, 10) @ aux1)\n",
    "tik2_peso2 = np.round(U_peso2 @ tikhonov(lam2, 10) @ aux2)\n",
    "\n",
    "mse_tik2_peso1 = MSE(sinal_original, tik2_peso1) \n",
    "mse_tik2_peso2 = MSE(sinal_original, tik2_peso2)\n",
    "psnr_tik2_peso1 = PSNR(sinal_original, tik2_peso1)\n",
    "psnr_tik2_peso2 = PSNR(sinal_original, tik2_peso2)"
   ]
  },
  {
   "cell_type": "code",
   "execution_count": 48,
   "metadata": {},
   "outputs": [],
   "source": [
    "tik3_peso1 = np.round(U_peso1 @ tikhonov(lam1, 0.1) @ aux1)\n",
    "tik3_peso2 = np.round(U_peso2 @ tikhonov(lam2, 0.1) @ aux2)\n",
    "\n",
    "mse_tik3_peso1 = MSE(sinal_original, tik3_peso1) \n",
    "mse_tik3_peso2 = MSE(sinal_original, tik3_peso2)\n",
    "psnr_tik3_peso1 = PSNR(sinal_original, tik3_peso1)\n",
    "psnr_tik3_peso2 = PSNR(sinal_original, tik3_peso2)"
   ]
  },
  {
   "cell_type": "markdown",
   "metadata": {},
   "source": [
    "### Resultados\n",
    "\n",
    "Como no caso anterior, vamos fazer os resultados numéricos primeiro."
   ]
  },
  {
   "cell_type": "code",
   "execution_count": 49,
   "metadata": {},
   "outputs": [
    {
     "data": {
      "text/html": [
       "<div>\n",
       "<style scoped>\n",
       "    .dataframe tbody tr th:only-of-type {\n",
       "        vertical-align: middle;\n",
       "    }\n",
       "\n",
       "    .dataframe tbody tr th {\n",
       "        vertical-align: top;\n",
       "    }\n",
       "\n",
       "    .dataframe thead th {\n",
       "        text-align: right;\n",
       "    }\n",
       "</style>\n",
       "<table border=\"1\" class=\"dataframe\">\n",
       "  <thead>\n",
       "    <tr style=\"text-align: right;\">\n",
       "      <th></th>\n",
       "      <th>Método</th>\n",
       "      <th>MSE 1</th>\n",
       "      <th>MSE 2</th>\n",
       "      <th>PSNR 1</th>\n",
       "      <th>PSNR 2</th>\n",
       "    </tr>\n",
       "  </thead>\n",
       "  <tbody>\n",
       "    <tr>\n",
       "      <th>0</th>\n",
       "      <td>Heat (t = 0.25)</td>\n",
       "      <td>103.62961104472936</td>\n",
       "      <td>193.0923929203873</td>\n",
       "      <td>27.975964927573106</td>\n",
       "      <td>25.27315196243228</td>\n",
       "    </tr>\n",
       "    <tr>\n",
       "      <th>1</th>\n",
       "      <td>Heat (t = 0.5)</td>\n",
       "      <td>108.28641218137489</td>\n",
       "      <td>193.14107556954627</td>\n",
       "      <td>27.785063962543305</td>\n",
       "      <td>25.272057152803853</td>\n",
       "    </tr>\n",
       "    <tr>\n",
       "      <th>2</th>\n",
       "      <td>Heat (t = 1)</td>\n",
       "      <td>118.67292071659539</td>\n",
       "      <td>198.4331257023082</td>\n",
       "      <td>27.38728729739951</td>\n",
       "      <td>25.154661874607594</td>\n",
       "    </tr>\n",
       "    <tr>\n",
       "      <th>3</th>\n",
       "      <td>Heat (t = 2)</td>\n",
       "      <td>137.93444014433112</td>\n",
       "      <td>212.8867042816674</td>\n",
       "      <td>26.734076443860808</td>\n",
       "      <td>24.849318221980944</td>\n",
       "    </tr>\n",
       "    <tr>\n",
       "      <th>4</th>\n",
       "      <td>Heat (t = 4)</td>\n",
       "      <td>165.46265733469053</td>\n",
       "      <td>236.73832675835607</td>\n",
       "      <td>25.943803660395815</td>\n",
       "      <td>24.388117871288944</td>\n",
       "    </tr>\n",
       "    <tr>\n",
       "      <th>5</th>\n",
       "      <td>Tikhonov</td>\n",
       "      <td>111.77090277777778</td>\n",
       "      <td>194.32590277777777</td>\n",
       "      <td>27.64751602109687</td>\n",
       "      <td>25.245496668884478</td>\n",
       "    </tr>\n",
       "    <tr>\n",
       "      <th>6</th>\n",
       "      <td>Tikhonov 2</td>\n",
       "      <td>170.69208333333333</td>\n",
       "      <td>241.068125</td>\n",
       "      <td>25.808669817823382</td>\n",
       "      <td>24.309405708627835</td>\n",
       "    </tr>\n",
       "    <tr>\n",
       "      <th>7</th>\n",
       "      <td>Tikhonov 3</td>\n",
       "      <td>101.28659722222223</td>\n",
       "      <td>195.77881944444445</td>\n",
       "      <td>28.075283798465286</td>\n",
       "      <td>25.21314655504795</td>\n",
       "    </tr>\n",
       "  </tbody>\n",
       "</table>\n",
       "</div>"
      ],
      "text/plain": [
       "            Método               MSE 1               MSE 2  \\\n",
       "0  Heat (t = 0.25)  103.62961104472936   193.0923929203873   \n",
       "1   Heat (t = 0.5)  108.28641218137489  193.14107556954627   \n",
       "2     Heat (t = 1)  118.67292071659539   198.4331257023082   \n",
       "3     Heat (t = 2)  137.93444014433112   212.8867042816674   \n",
       "4     Heat (t = 4)  165.46265733469053  236.73832675835607   \n",
       "5         Tikhonov  111.77090277777778  194.32590277777777   \n",
       "6       Tikhonov 2  170.69208333333333          241.068125   \n",
       "7       Tikhonov 3  101.28659722222223  195.77881944444445   \n",
       "\n",
       "               PSNR 1              PSNR 2  \n",
       "0  27.975964927573106   25.27315196243228  \n",
       "1  27.785063962543305  25.272057152803853  \n",
       "2   27.38728729739951  25.154661874607594  \n",
       "3  26.734076443860808  24.849318221980944  \n",
       "4  25.943803660395815  24.388117871288944  \n",
       "5   27.64751602109687  25.245496668884478  \n",
       "6  25.808669817823382  24.309405708627835  \n",
       "7  28.075283798465286   25.21314655504795  "
      ]
     },
     "execution_count": 49,
     "metadata": {},
     "output_type": "execute_result"
    }
   ],
   "source": [
    "labels = [f'Heat (t = {ts})' for ts in tau] + [\"Tikhonov\",\"Tikhonov 2\",\"Tikhonov 3\"]\n",
    "resultados = pd.DataFrame(data = np.array([labels,\n",
    "                                            mse_peso1 + [mse_tik_peso1, mse_tik2_peso1, mse_tik3_peso1],\n",
    "                                            mse_peso2 + [mse_tik_peso2, mse_tik2_peso2, mse_tik3_peso2],\n",
    "                                            psnr_peso1 + [psnr_tik_peso1,psnr_tik2_peso1,psnr_tik3_peso1],\n",
    "                                            psnr_peso2 + [psnr_tik_peso2,psnr_tik2_peso2,psnr_tik3_peso2]]).T,\n",
    "                            columns = ['Método','MSE 1','MSE 2','PSNR 1','PSNR 2'])\n",
    "resultados"
   ]
  },
  {
   "cell_type": "markdown",
   "metadata": {},
   "source": [
    "Veja que, novamente, os filtros que tem os menores parâmetros são aqueles que se saem melhor nas métricas de erro quadrátco médio (Heat 1 e Tilhonov 3). No entanto, a queda de desempenho em relação aos demais no PSNR não foi tão drástica, visto que essa métrica foi quase a mesma para todos os filtros.\n",
    "\n",
    "Outro aspecto que podemos observar, dessa vez em relação aos métodos com o grafo clássico, é que a variação do MSE é menor comparando um mesmo ruído. Por exemplo, para o ruído 1 temos que $101 < MSE < 171$, enquanto que para o grafo clássico, para esse mesmo ruído, $96 < MSE < 780$.\n",
    "\n",
    "Além disso, vemos que a filtração do ruído 2 continua tendo uma performance pior para o erro quadrático médio, chegando a ser quase duas vezes maior em algus casos. "
   ]
  },
  {
   "cell_type": "markdown",
   "metadata": {},
   "source": [
    "Agora, a comparação a olho nu."
   ]
  },
  {
   "cell_type": "code",
   "execution_count": 50,
   "metadata": {},
   "outputs": [],
   "source": [
    "# salvando as imagens \n",
    "# ruido 1\n",
    "plt.imsave('cameraman_PR1H1.png', heat_peso1[0].reshape((120,120)), cmap='gray')\n",
    "plt.imsave('cameraman_PR1H2.png', heat_peso1[1].reshape((120,120)), cmap='gray')\n",
    "plt.imsave('cameraman_PR1H3.png', heat_peso1[2].reshape((120,120)), cmap='gray')\n",
    "plt.imsave('cameraman_PR1H4.png', heat_peso1[3].reshape((120,120)), cmap='gray')\n",
    "plt.imsave('cameraman_PR1H5.png', heat_peso1[4].reshape((120,120)), cmap='gray')\n",
    "\n",
    "# tikhonov\n",
    "plt.imsave('cameraman_PR1TIK.png', tik_peso1.reshape((120,120)), cmap='gray')\n",
    "plt.imsave('cameraman_PR1TIK2.png', tik2_peso1.reshape((120,120)), cmap='gray')\n",
    "plt.imsave('cameraman_PR1TIK3.png', tik3_peso1.reshape((120,120)), cmap='gray')\n",
    "\n",
    "# ruido 2\n",
    "plt.imsave('cameraman_PR2H1.png', heat_peso2[0].reshape((120,120)), cmap='gray')\n",
    "plt.imsave('cameraman_PR2H2.png', heat_peso2[1].reshape((120,120)), cmap='gray')\n",
    "plt.imsave('cameraman_PR2H3.png', heat_peso2[2].reshape((120,120)), cmap='gray')\n",
    "plt.imsave('cameraman_PR2H4.png', heat_peso2[3].reshape((120,120)), cmap='gray')\n",
    "plt.imsave('cameraman_PR2H5.png', heat_peso2[4].reshape((120,120)), cmap='gray')\n",
    "\n",
    "# tikhonov\n",
    "plt.imsave('cameraman_PR2TIK.png', tik_peso2.reshape((120,120)), cmap='gray')\n",
    "plt.imsave('cameraman_PR2TIK2.png', tik2_peso2.reshape((120,120)), cmap='gray')\n",
    "plt.imsave('cameraman_PR2TIK3.png', tik3_peso2.reshape((120,120)), cmap='gray')"
   ]
  },
  {
   "cell_type": "markdown",
   "metadata": {},
   "source": [
    "#### Ruido 1 - Pesos\n",
    "Original|Heat 1|Heat 2|Heat 3|Heat 4|Heat 5|Tikhonov|Tikhonov 2|Tikhonov 3\n",
    ":---:|:---:|:---:|:---:|:---:|:---:|:---:|:---:|:---:\n",
    "![cameraman_original_reduzido.png](cameraman_original_reduzido.png)| ![cameraman_PR1H1.png](Resultados/cameraman_PR1H1.png)| ![cameraman_PR1H2.png](Resultados/cameraman_PR1H2.png)| ![cameraman_PR1H3.png](Resultados/cameraman_PR1H3.png)| ![cameraman_PR1H4.png](Resultados/cameraman_PR1H4.png)| ![cameraman_PR1H5.png](Resultados/cameraman_PR1H5.png)| ![cameraman_PR1TIK.png](Resultados/cameraman_PR1TIK.png)| ![cameraman_PR1TIK2.png](Resultados/cameraman_PR1TIK2.png)| ![cameraman_PR1TIK3.png](Resultados/cameraman_PR1TIK3.png)"
   ]
  },
  {
   "cell_type": "markdown",
   "metadata": {},
   "source": [
    "#### Ruido 2 - Pesos\n",
    "Original|Heat 1|Heat 2|Heat 3|Heat 4|Heat 5|Tikhonov|Tikhonov 2|Tikhonov 3\n",
    ":---:|:---:|:---:|:---:|:---:|:---:|:---:|:---:|:---:\n",
    "![cameraman_original.png](cameraman_original_reduzido.png)| ![cameraman_PR2H1.png](Resultados/cameraman_PR2H1.png)| ![cameraman_PR2H2.png](Resultados/cameraman_PR2H2.png)| ![cameraman_PR2H3.png](Resultados/cameraman_PR2H3.png)| ![cameraman_PR2H4.png](Resultados/cameraman_PR2H4.png)| ![cameraman_PR2H5.png](Resultados/cameraman_PR2H5.png)| ![cameraman_PR2TIK.png](Resultados/cameraman_PR2TIK.png)| ![cameraman_PR2TIK2.png](Resultados/cameraman_PR2TIK2.png)| ![cameraman_PR2TIK3.png](Resultados/cameraman_PR2TIK3.png)"
   ]
  },
  {
   "cell_type": "markdown",
   "metadata": {},
   "source": [
    "## Comparação com o PyGSP\n",
    "\n",
    "Como o filtro de regularização à Tikhonov não é implementado em nenhum método do PyGSP, vamos comparar apenas com o filtro heat.\n",
    "\n",
    "Como o `compute_fourier_basis` é comum aos dois métodos, basta calcular $Uh(\\lambda)U^T x$, onde:\n",
    "\n",
    "* $U$ é a matriz de autovetores de $L$\n",
    "* $h(\\lambda)$ é a função que define o filtro aplicada aos autovalores\n",
    "* $x$ é o sinal"
   ]
  },
  {
   "cell_type": "markdown",
   "metadata": {},
   "source": [
    "### Ruido 1"
   ]
  },
  {
   "cell_type": "code",
   "execution_count": 46,
   "metadata": {},
   "outputs": [
    {
     "name": "stdout",
     "output_type": "stream",
     "text": [
      "1min 16s ± 1.68 s per loop (mean ± std. dev. of 7 runs, 1 loop each)\n"
     ]
    }
   ],
   "source": [
    "%%timeit\n",
    "U @ heat(lam, tau = 1) @ U.T @ sinal_ruido1"
   ]
  },
  {
   "cell_type": "code",
   "execution_count": 47,
   "metadata": {},
   "outputs": [
    {
     "name": "stdout",
     "output_type": "stream",
     "text": [
      "5min 45s ± 890 ms per loop (mean ± std. dev. of 7 runs, 1 loop each)\n"
     ]
    }
   ],
   "source": [
    "%%timeit\n",
    "U_peso1 @ heat(lam1, tau = 1) @ U_peso1.T @ sinal_ruido1"
   ]
  },
  {
   "cell_type": "code",
   "execution_count": 48,
   "metadata": {},
   "outputs": [
    {
     "name": "stdout",
     "output_type": "stream",
     "text": [
      "873 ms ± 65.2 ms per loop (mean ± std. dev. of 7 runs, 1 loop each)\n"
     ]
    }
   ],
   "source": [
    "%%timeit\n",
    "filters.Heat(G_classico,1).filter(sinal_ruido1,method='exact')"
   ]
  },
  {
   "cell_type": "markdown",
   "metadata": {},
   "source": [
    "### Ruido 2"
   ]
  },
  {
   "cell_type": "code",
   "execution_count": 49,
   "metadata": {},
   "outputs": [
    {
     "name": "stdout",
     "output_type": "stream",
     "text": [
      "1min 14s ± 164 ms per loop (mean ± std. dev. of 7 runs, 1 loop each)\n"
     ]
    }
   ],
   "source": [
    "%%timeit\n",
    "U @ heat(lam, tau = 1) @ U.T @ sinal_ruido2"
   ]
  },
  {
   "cell_type": "code",
   "execution_count": 50,
   "metadata": {},
   "outputs": [
    {
     "name": "stdout",
     "output_type": "stream",
     "text": [
      "1min 14s ± 195 ms per loop (mean ± std. dev. of 7 runs, 1 loop each)\n"
     ]
    }
   ],
   "source": [
    "%%timeit \n",
    "U_peso2 @ heat(lam2, tau = 1)  @ U_peso2.T @ sinal_ruido2"
   ]
  },
  {
   "cell_type": "code",
   "execution_count": 51,
   "metadata": {},
   "outputs": [
    {
     "name": "stdout",
     "output_type": "stream",
     "text": [
      "827 ms ± 26.3 ms per loop (mean ± std. dev. of 7 runs, 1 loop each)\n"
     ]
    }
   ],
   "source": [
    "%%timeit\n",
    "filters.Heat(G_classico,1).filter(sinal_ruido2,method='exact')"
   ]
  },
  {
   "cell_type": "markdown",
   "metadata": {},
   "source": [
    "### Resultados"
   ]
  },
  {
   "cell_type": "markdown",
   "metadata": {},
   "source": [
    "Vemos, claramente, que o método de filtro do PyGSP é mais otimizado que os métodos de implementação própria."
   ]
  }
 ],
 "metadata": {
  "kernelspec": {
   "display_name": "Python 3",
   "language": "python",
   "name": "python3"
  },
  "language_info": {
   "codemirror_mode": {
    "name": "ipython",
    "version": 3
   },
   "file_extension": ".py",
   "mimetype": "text/x-python",
   "name": "python",
   "nbconvert_exporter": "python",
   "pygments_lexer": "ipython3",
   "version": "3.11.4"
  }
 },
 "nbformat": 4,
 "nbformat_minor": 2
}
